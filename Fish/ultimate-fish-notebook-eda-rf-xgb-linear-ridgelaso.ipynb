{
 "cells": [
  {
   "cell_type": "code",
   "execution_count": 1,
   "id": "afb342dc",
   "metadata": {
    "_cell_guid": "b1076dfc-b9ad-4769-8c92-a6c4dae69d19",
    "_uuid": "8f2839f25d086af736a60e9eeb907d3b93b6e0e5",
    "papermill": {
     "duration": 2.797797,
     "end_time": "2021-09-23T15:25:31.128865",
     "exception": false,
     "start_time": "2021-09-23T15:25:28.331068",
     "status": "completed"
    },
    "tags": []
   },
   "outputs": [],
   "source": [
    "import numpy as np # linear algebra\n",
    "import pandas as pd # data processing, CSV file I/O (e.g. pd.read_csv)\n",
    "from sklearn.model_selection import train_test_split \n",
    "\n",
    "import folium # map locations\n",
    "import seaborn as sns\n",
    "import matplotlib.pyplot as plt\n",
    "# set a grey background (use sns.set_theme() if seaborn version 0.11.0 or above) \n",
    "sns.set(style=\"darkgrid\")\n",
    "\n",
    "#models\n",
    "import statsmodels.api as sm\n",
    "from sklearn.ensemble import RandomForestRegressor\n",
    "from xgboost import XGBRegressor\n",
    "from sklearn.linear_model import Ridge\n",
    "from sklearn.linear_model import Lasso\n",
    "\n",
    "#evaluation metrics\n",
    "from sklearn.metrics import r2_score\n",
    "from sklearn.metrics import mean_squared_error\n",
    "from math import sqrt\n",
    "from sklearn.metrics import mean_absolute_error\n",
    "\n",
    "import os\n"
   ]
  },
  {
   "cell_type": "code",
   "execution_count": 2,
   "id": "d78c7915",
   "metadata": {
    "papermill": {
     "duration": 0.076178,
     "end_time": "2021-09-23T15:25:31.265851",
     "exception": false,
     "start_time": "2021-09-23T15:25:31.189673",
     "status": "completed"
    },
    "tags": []
   },
   "outputs": [],
   "source": [
    "df = pd.read_csv(\"Fish.csv\")"
   ]
  },
  {
   "cell_type": "code",
   "execution_count": 3,
   "id": "676208c1",
   "metadata": {
    "papermill": {
     "duration": 0.087021,
     "end_time": "2021-09-23T15:25:31.413209",
     "exception": false,
     "start_time": "2021-09-23T15:25:31.326188",
     "status": "completed"
    },
    "tags": []
   },
   "outputs": [
    {
     "data": {
      "text/html": [
       "<div>\n",
       "<style scoped>\n",
       "    .dataframe tbody tr th:only-of-type {\n",
       "        vertical-align: middle;\n",
       "    }\n",
       "\n",
       "    .dataframe tbody tr th {\n",
       "        vertical-align: top;\n",
       "    }\n",
       "\n",
       "    .dataframe thead th {\n",
       "        text-align: right;\n",
       "    }\n",
       "</style>\n",
       "<table border=\"1\" class=\"dataframe\">\n",
       "  <thead>\n",
       "    <tr style=\"text-align: right;\">\n",
       "      <th></th>\n",
       "      <th>Species</th>\n",
       "      <th>Weight</th>\n",
       "      <th>Length1</th>\n",
       "      <th>Length2</th>\n",
       "      <th>Length3</th>\n",
       "      <th>Height</th>\n",
       "      <th>Width</th>\n",
       "    </tr>\n",
       "  </thead>\n",
       "  <tbody>\n",
       "    <tr>\n",
       "      <th>0</th>\n",
       "      <td>Bream</td>\n",
       "      <td>242.0</td>\n",
       "      <td>23.2</td>\n",
       "      <td>25.4</td>\n",
       "      <td>30.0</td>\n",
       "      <td>11.52</td>\n",
       "      <td>4.0200</td>\n",
       "    </tr>\n",
       "    <tr>\n",
       "      <th>1</th>\n",
       "      <td>Bream</td>\n",
       "      <td>290.0</td>\n",
       "      <td>24.0</td>\n",
       "      <td>26.3</td>\n",
       "      <td>31.2</td>\n",
       "      <td>12.48</td>\n",
       "      <td>4.3056</td>\n",
       "    </tr>\n",
       "  </tbody>\n",
       "</table>\n",
       "</div>"
      ],
      "text/plain": [
       "  Species  Weight  Length1  Length2  Length3  Height   Width\n",
       "0   Bream   242.0     23.2     25.4     30.0   11.52  4.0200\n",
       "1   Bream   290.0     24.0     26.3     31.2   12.48  4.3056"
      ]
     },
     "execution_count": 3,
     "metadata": {},
     "output_type": "execute_result"
    }
   ],
   "source": [
    "df.head(2)"
   ]
  },
  {
   "cell_type": "code",
   "execution_count": 4,
   "id": "46ea15d1",
   "metadata": {
    "papermill": {
     "duration": 0.07416,
     "end_time": "2021-09-23T15:25:31.547839",
     "exception": false,
     "start_time": "2021-09-23T15:25:31.473679",
     "status": "completed"
    },
    "tags": []
   },
   "outputs": [
    {
     "data": {
      "text/plain": [
       "array(['Bream', 'Roach', 'Whitefish', 'Parkki', 'Perch', 'Pike', 'Smelt'],\n",
       "      dtype=object)"
      ]
     },
     "execution_count": 4,
     "metadata": {},
     "output_type": "execute_result"
    }
   ],
   "source": [
    "df[\"Species\"].unique()"
   ]
  },
  {
   "cell_type": "markdown",
   "id": "6e40c9cf",
   "metadata": {
    "papermill": {
     "duration": 0.0617,
     "end_time": "2021-09-23T15:25:31.671798",
     "exception": false,
     "start_time": "2021-09-23T15:25:31.610098",
     "status": "completed"
    },
    "tags": []
   },
   "source": [
    "**Our target variable is Weight**"
   ]
  },
  {
   "cell_type": "markdown",
   "id": "f34e8162",
   "metadata": {
    "papermill": {
     "duration": 0.062245,
     "end_time": "2021-09-23T15:25:31.796404",
     "exception": false,
     "start_time": "2021-09-23T15:25:31.734159",
     "status": "completed"
    },
    "tags": []
   },
   "source": [
    "# Pike"
   ]
  },
  {
   "cell_type": "markdown",
   "id": "40a516fe",
   "metadata": {
    "papermill": {
     "duration": 0.0642,
     "end_time": "2021-09-23T15:25:31.923409",
     "exception": false,
     "start_time": "2021-09-23T15:25:31.859209",
     "status": "completed"
    },
    "tags": []
   },
   "source": [
    "<a href=\"https://ibb.co/71QQM9m\"><img src=\"https://i.ibb.co/vjhhytn/turna.jpg\" alt=\"turna\" border=\"0\"></a>"
   ]
  },
  {
   "cell_type": "markdown",
   "id": "7c7cc658",
   "metadata": {
    "papermill": {
     "duration": 0.062538,
     "end_time": "2021-09-23T15:25:32.049074",
     "exception": false,
     "start_time": "2021-09-23T15:25:31.986536",
     "status": "completed"
    },
    "tags": []
   },
   "source": [
    "Esox is a genus of freshwater fish commonly known as pike or pickerel. It is the type genus of the family Esocidae. The type species of the genus is Esox lucius, the northern pike.\n",
    "\n",
    "Ancestral Esox species had been present in Laurentia (which later became North America) and Eurasia since the Paleogene. Modern large pike species are native to the Palearctic and Nearctic realms, ranging across Northern America and from Western Europe to Siberia in North Asia.\n",
    "\n",
    "Pikes have the elongated, torpedo-like shape typical of predatory fishes, with sharply pointed heads and sharp teeth. Their coloration is typically grey-green with a mottled or spotted appearance with stripes along their backs, providing camouflage among underwater weeds, and each individual pike marking patterns are unique like fingerprints. Pikes can grow to a maximum recorded length of 1.83 m (6 ft), reaching a maximum recorded weight of 35 kg (77 lb)."
   ]
  },
  {
   "cell_type": "code",
   "execution_count": 5,
   "id": "3b8d41a8",
   "metadata": {
    "papermill": {
     "duration": 0.085364,
     "end_time": "2021-09-23T15:25:32.196900",
     "exception": false,
     "start_time": "2021-09-23T15:25:32.111536",
     "status": "completed"
    },
    "tags": []
   },
   "outputs": [
    {
     "data": {
      "text/html": [
       "<div>\n",
       "<style scoped>\n",
       "    .dataframe tbody tr th:only-of-type {\n",
       "        vertical-align: middle;\n",
       "    }\n",
       "\n",
       "    .dataframe tbody tr th {\n",
       "        vertical-align: top;\n",
       "    }\n",
       "\n",
       "    .dataframe thead th {\n",
       "        text-align: right;\n",
       "    }\n",
       "</style>\n",
       "<table border=\"1\" class=\"dataframe\">\n",
       "  <thead>\n",
       "    <tr style=\"text-align: right;\">\n",
       "      <th></th>\n",
       "      <th>Species</th>\n",
       "      <th>Weight</th>\n",
       "      <th>Length1</th>\n",
       "      <th>Length2</th>\n",
       "      <th>Length3</th>\n",
       "      <th>Height</th>\n",
       "      <th>Width</th>\n",
       "    </tr>\n",
       "  </thead>\n",
       "  <tbody>\n",
       "    <tr>\n",
       "      <th>0</th>\n",
       "      <td>Pike</td>\n",
       "      <td>200.0</td>\n",
       "      <td>30.0</td>\n",
       "      <td>32.3</td>\n",
       "      <td>34.8</td>\n",
       "      <td>5.5680</td>\n",
       "      <td>3.3756</td>\n",
       "    </tr>\n",
       "    <tr>\n",
       "      <th>1</th>\n",
       "      <td>Pike</td>\n",
       "      <td>300.0</td>\n",
       "      <td>31.7</td>\n",
       "      <td>34.0</td>\n",
       "      <td>37.8</td>\n",
       "      <td>5.7078</td>\n",
       "      <td>4.1580</td>\n",
       "    </tr>\n",
       "    <tr>\n",
       "      <th>2</th>\n",
       "      <td>Pike</td>\n",
       "      <td>300.0</td>\n",
       "      <td>32.7</td>\n",
       "      <td>35.0</td>\n",
       "      <td>38.8</td>\n",
       "      <td>5.9364</td>\n",
       "      <td>4.3844</td>\n",
       "    </tr>\n",
       "    <tr>\n",
       "      <th>3</th>\n",
       "      <td>Pike</td>\n",
       "      <td>300.0</td>\n",
       "      <td>34.8</td>\n",
       "      <td>37.3</td>\n",
       "      <td>39.8</td>\n",
       "      <td>6.2884</td>\n",
       "      <td>4.0198</td>\n",
       "    </tr>\n",
       "    <tr>\n",
       "      <th>4</th>\n",
       "      <td>Pike</td>\n",
       "      <td>430.0</td>\n",
       "      <td>35.5</td>\n",
       "      <td>38.0</td>\n",
       "      <td>40.5</td>\n",
       "      <td>7.2900</td>\n",
       "      <td>4.5765</td>\n",
       "    </tr>\n",
       "  </tbody>\n",
       "</table>\n",
       "</div>"
      ],
      "text/plain": [
       "  Species  Weight  Length1  Length2  Length3  Height   Width\n",
       "0    Pike   200.0     30.0     32.3     34.8  5.5680  3.3756\n",
       "1    Pike   300.0     31.7     34.0     37.8  5.7078  4.1580\n",
       "2    Pike   300.0     32.7     35.0     38.8  5.9364  4.3844\n",
       "3    Pike   300.0     34.8     37.3     39.8  6.2884  4.0198\n",
       "4    Pike   430.0     35.5     38.0     40.5  7.2900  4.5765"
      ]
     },
     "execution_count": 5,
     "metadata": {},
     "output_type": "execute_result"
    }
   ],
   "source": [
    "df_pike = df[df[\"Species\"] == \"Pike\"].reset_index().drop(\"index\", axis = 1)\n",
    "df_pike.head()\n"
   ]
  },
  {
   "cell_type": "code",
   "execution_count": 6,
   "id": "8c30e826",
   "metadata": {
    "papermill": {
     "duration": 0.095254,
     "end_time": "2021-09-23T15:25:32.354918",
     "exception": false,
     "start_time": "2021-09-23T15:25:32.259664",
     "status": "completed"
    },
    "tags": []
   },
   "outputs": [
    {
     "data": {
      "text/html": [
       "<div>\n",
       "<style scoped>\n",
       "    .dataframe tbody tr th:only-of-type {\n",
       "        vertical-align: middle;\n",
       "    }\n",
       "\n",
       "    .dataframe tbody tr th {\n",
       "        vertical-align: top;\n",
       "    }\n",
       "\n",
       "    .dataframe thead th {\n",
       "        text-align: right;\n",
       "    }\n",
       "</style>\n",
       "<table border=\"1\" class=\"dataframe\">\n",
       "  <thead>\n",
       "    <tr style=\"text-align: right;\">\n",
       "      <th></th>\n",
       "      <th>Weight</th>\n",
       "      <th>Length1</th>\n",
       "      <th>Length2</th>\n",
       "      <th>Length3</th>\n",
       "      <th>Height</th>\n",
       "      <th>Width</th>\n",
       "    </tr>\n",
       "  </thead>\n",
       "  <tbody>\n",
       "    <tr>\n",
       "      <th>count</th>\n",
       "      <td>17.000000</td>\n",
       "      <td>17.000000</td>\n",
       "      <td>17.000000</td>\n",
       "      <td>17.000000</td>\n",
       "      <td>17.000000</td>\n",
       "      <td>17.000000</td>\n",
       "    </tr>\n",
       "    <tr>\n",
       "      <th>mean</th>\n",
       "      <td>718.705882</td>\n",
       "      <td>42.476471</td>\n",
       "      <td>45.482353</td>\n",
       "      <td>48.717647</td>\n",
       "      <td>7.713771</td>\n",
       "      <td>5.086382</td>\n",
       "    </tr>\n",
       "    <tr>\n",
       "      <th>std</th>\n",
       "      <td>494.140765</td>\n",
       "      <td>9.029087</td>\n",
       "      <td>9.714116</td>\n",
       "      <td>10.167426</td>\n",
       "      <td>1.664228</td>\n",
       "      <td>1.140269</td>\n",
       "    </tr>\n",
       "    <tr>\n",
       "      <th>min</th>\n",
       "      <td>200.000000</td>\n",
       "      <td>30.000000</td>\n",
       "      <td>32.300000</td>\n",
       "      <td>34.800000</td>\n",
       "      <td>5.568000</td>\n",
       "      <td>3.375600</td>\n",
       "    </tr>\n",
       "    <tr>\n",
       "      <th>25%</th>\n",
       "      <td>345.000000</td>\n",
       "      <td>35.500000</td>\n",
       "      <td>38.000000</td>\n",
       "      <td>40.500000</td>\n",
       "      <td>6.396000</td>\n",
       "      <td>4.322500</td>\n",
       "    </tr>\n",
       "    <tr>\n",
       "      <th>50%</th>\n",
       "      <td>510.000000</td>\n",
       "      <td>40.100000</td>\n",
       "      <td>43.000000</td>\n",
       "      <td>45.800000</td>\n",
       "      <td>7.290000</td>\n",
       "      <td>4.870000</td>\n",
       "    </tr>\n",
       "    <tr>\n",
       "      <th>75%</th>\n",
       "      <td>950.000000</td>\n",
       "      <td>48.300000</td>\n",
       "      <td>51.700000</td>\n",
       "      <td>55.100000</td>\n",
       "      <td>8.926200</td>\n",
       "      <td>6.144000</td>\n",
       "    </tr>\n",
       "    <tr>\n",
       "      <th>max</th>\n",
       "      <td>1650.000000</td>\n",
       "      <td>59.000000</td>\n",
       "      <td>63.400000</td>\n",
       "      <td>68.000000</td>\n",
       "      <td>10.812000</td>\n",
       "      <td>7.480000</td>\n",
       "    </tr>\n",
       "  </tbody>\n",
       "</table>\n",
       "</div>"
      ],
      "text/plain": [
       "            Weight    Length1    Length2    Length3     Height      Width\n",
       "count    17.000000  17.000000  17.000000  17.000000  17.000000  17.000000\n",
       "mean    718.705882  42.476471  45.482353  48.717647   7.713771   5.086382\n",
       "std     494.140765   9.029087   9.714116  10.167426   1.664228   1.140269\n",
       "min     200.000000  30.000000  32.300000  34.800000   5.568000   3.375600\n",
       "25%     345.000000  35.500000  38.000000  40.500000   6.396000   4.322500\n",
       "50%     510.000000  40.100000  43.000000  45.800000   7.290000   4.870000\n",
       "75%     950.000000  48.300000  51.700000  55.100000   8.926200   6.144000\n",
       "max    1650.000000  59.000000  63.400000  68.000000  10.812000   7.480000"
      ]
     },
     "execution_count": 6,
     "metadata": {},
     "output_type": "execute_result"
    }
   ],
   "source": [
    "df_pike.describe()"
   ]
  },
  {
   "cell_type": "markdown",
   "id": "90403a80",
   "metadata": {
    "papermill": {
     "duration": 0.063055,
     "end_time": "2021-09-23T15:25:32.480746",
     "exception": false,
     "start_time": "2021-09-23T15:25:32.417691",
     "status": "completed"
    },
    "tags": []
   },
   "source": [
    "## Pike Graph\n",
    "\n",
    "- Histogram\n",
    "- Boxplot\n",
    "- 2D Denstiy\n",
    "- Map Locations"
   ]
  },
  {
   "cell_type": "code",
   "execution_count": 7,
   "id": "ddab305d",
   "metadata": {
    "papermill": {
     "duration": 0.383855,
     "end_time": "2021-09-23T15:25:32.927558",
     "exception": false,
     "start_time": "2021-09-23T15:25:32.543703",
     "status": "completed"
    },
    "tags": []
   },
   "outputs": [
    {
     "data": {
      "text/plain": [
       "Text(0.5, 1.0, 'Pike Histogram')"
      ]
     },
     "execution_count": 7,
     "metadata": {},
     "output_type": "execute_result"
    },
    {
     "data": {
      "image/png": "[encoded data removed]",
      "text/plain": [
       "<Figure size 432x288 with 1 Axes>"
      ]
     },
     "metadata": {},
     "output_type": "display_data"
    }
   ],
   "source": [
    "sns.histplot(data=df_pike, x=\"Weight\", kde = True)\n",
    "plt.title(\"Pike Histogram\")"
   ]
  },
  {
   "cell_type": "code",
   "execution_count": 8,
   "id": "84bc6b9a",
   "metadata": {
    "papermill": {
     "duration": 0.320318,
     "end_time": "2021-09-23T15:25:33.345615",
     "exception": false,
     "start_time": "2021-09-23T15:25:33.025297",
     "status": "completed"
    },
    "tags": []
   },
   "outputs": [
    {
     "data": {
      "text/plain": [
       "<AxesSubplot:>"
      ]
     },
     "execution_count": 8,
     "metadata": {},
     "output_type": "execute_result"
    },
    {
     "data": {
      "image/png": "[encoded data removed]",
      "text/plain": [
       "<Figure size 1080x864 with 1 Axes>"
      ]
     },
     "metadata": {},
     "output_type": "display_data"
    }
   ],
   "source": [
    "plt.figure(figsize=(15, 12))\n",
    "sns.boxplot(data=df_pike.loc[:, [\"Length1\",\"Length2\",\"Length3\", \"Height\",\"Width\"]])\n"
   ]
  },
  {
   "cell_type": "code",
   "execution_count": 9,
   "id": "cc8c8180",
   "metadata": {
    "papermill": {
     "duration": 0.331755,
     "end_time": "2021-09-23T15:25:33.744044",
     "exception": false,
     "start_time": "2021-09-23T15:25:33.412289",
     "status": "completed"
    },
    "tags": []
   },
   "outputs": [
    {
     "data": {
      "text/plain": [
       "<AxesSubplot:xlabel='Weight', ylabel='Length1'>"
      ]
     },
     "execution_count": 9,
     "metadata": {},
     "output_type": "execute_result"
    },
    {
     "data": {
      "image/png": "[encoded data removed]",
      "text/plain": [
       "<Figure size 1080x864 with 1 Axes>"
      ]
     },
     "metadata": {},
     "output_type": "display_data"
    }
   ],
   "source": [
    "plt.figure(figsize=(15, 12))\n",
    "sns.kdeplot(x = df_pike[\"Weight\"], y = df_pike[\"Length1\"], cmap = \"Reds\", shade = True, bw_adjust = .6)\n"
   ]
  },
  {
   "cell_type": "code",
   "execution_count": 10,
   "id": "52b8335d",
   "metadata": {
    "papermill": {
     "duration": 0.099193,
     "end_time": "2021-09-23T15:25:33.910022",
     "exception": false,
     "start_time": "2021-09-23T15:25:33.810829",
     "status": "completed"
    },
    "tags": []
   },
   "outputs": [
    {
     "data": {
      "text/html": [
       "<div style=\"width:100%;\"><div style=\"position:relative;width:100%;height:0;padding-bottom:60%;\"><span style=\"color:#565656\">Make this Notebook Trusted to load map: File -> Trust Notebook</span><iframe src=\"about:blank\" style=\"position:absolute;width:100%;height:100%;left:0;top:0;border:none !important;\" data-html=%3C%21DOCTYPE%20html%3E%0A%3Chead%3E%20%20%20%20%0A%20%20%20%20%3Cmeta%20http-equiv%3D%22content-type%22%20content%3D%22text/html%3B%20charset%3DUTF-8%22%20/%3E%0A%20%20%20%20%0A%20%20%20%20%20%20%20%20%3Cscript%3E%0A%20%20%20%20%20%20%20%20%20%20%20%20L_NO_TOUCH%20%3D%20false%3B%0A%20%20%20%20%20%20%20%20%20%20%20%20L_DISABLE_3D%20%3D%20false%3B%0A%20%20%20%20%20%20%20%20%3C/script%3E%0A%20%20%20%20%0A%20%20%20%20%3Cstyle%3Ehtml%2C%20body%20%7Bwidth%3A%20100%25%3Bheight%3A%20100%25%3Bmargin%3A%200%3Bpadding%3A%200%3B%7D%3C/style%3E%0A%20%20%20%20%3Cstyle%3E%23map%20%7Bposition%3Aabsolute%3Btop%3A0%3Bbottom%3A0%3Bright%3A0%3Bleft%3A0%3B%7D%3C/style%3E%0A%20%20%20%20%3Cscript%20src%3D%22https%3A//cdn.jsdelivr.net/npm/leaflet%401.6.0/dist/leaflet.js%22%3E%3C/script%3E%0A%20%20%20%20%3Cscript%20src%3D%22https%3A//code.jquery.com/jquery-1.12.4.min.js%22%3E%3C/script%3E%0A%20%20%20%20%3Cscript%20src%3D%22https%3A//maxcdn.bootstrapcdn.com/bootstrap/3.2.0/js/bootstrap.min.js%22%3E%3C/script%3E%0A%20%20%20%20%3Cscript%20src%3D%22https%3A//cdnjs.cloudflare.com/ajax/libs/Leaflet.awesome-markers/2.0.2/leaflet.awesome-markers.js%22%3E%3C/script%3E%0A%20%20%20%20%3Clink%20rel%3D%22stylesheet%22%20href%3D%22https%3A//cdn.jsdelivr.net/npm/leaflet%401.6.0/dist/leaflet.css%22/%3E%0A%20%20%20%20%3Clink%20rel%3D%22stylesheet%22%20href%3D%22https%3A//maxcdn.bootstrapcdn.com/bootstrap/3.2.0/css/bootstrap.min.css%22/%3E%0A%20%20%20%20%3Clink%20rel%3D%22stylesheet%22%20href%3D%22https%3A//maxcdn.bootstrapcdn.com/bootstrap/3.2.0/css/bootstrap-theme.min.css%22/%3E%0A%20%20%20%20%3Clink%20rel%3D%22stylesheet%22%20href%3D%22https%3A//maxcdn.bootstrapcdn.com/font-awesome/4.6.3/css/font-awesome.min.css%22/%3E%0A%20%20%20%20%3Clink%20rel%3D%22stylesheet%22%20href%3D%22https%3A//cdnjs.cloudflare.com/ajax/libs/Leaflet.awesome-markers/2.0.2/leaflet.awesome-markers.css%22/%3E%0A%20%20%20%20%3Clink%20rel%3D%22stylesheet%22%20href%3D%22https%3A//cdn.jsdelivr.net/gh/python-visualization/folium/folium/templates/leaflet.awesome.rotate.min.css%22/%3E%0A%20%20%20%20%0A%20%20%20%20%20%20%20%20%20%20%20%20%3Cmeta%20name%3D%22viewport%22%20content%3D%22width%3Ddevice-width%2C%0A%20%20%20%20%20%20%20%20%20%20%20%20%20%20%20%20initial-scale%3D1.0%2C%20maximum-scale%3D1.0%2C%20user-scalable%3Dno%22%20/%3E%0A%20%20%20%20%20%20%20%20%20%20%20%20%3Cstyle%3E%0A%20%20%20%20%20%20%20%20%20%20%20%20%20%20%20%20%23map_68504d9f8a4344c58a2f45fbf8245a0c%20%7B%0A%20%20%20%20%20%20%20%20%20%20%20%20%20%20%20%20%20%20%20%20position%3A%20relative%3B%0A%20%20%20%20%20%20%20%20%20%20%20%20%20%20%20%20%20%20%20%20width%3A%20100.0%25%3B%0A%20%20%20%20%20%20%20%20%20%20%20%20%20%20%20%20%20%20%20%20height%3A%20100.0%25%3B%0A%20%20%20%20%20%20%20%20%20%20%20%20%20%20%20%20%20%20%20%20left%3A%200.0%25%3B%0A%20%20%20%20%20%20%20%20%20%20%20%20%20%20%20%20%20%20%20%20top%3A%200.0%25%3B%0A%20%20%20%20%20%20%20%20%20%20%20%20%20%20%20%20%7D%0A%20%20%20%20%20%20%20%20%20%20%20%20%3C/style%3E%0A%20%20%20%20%20%20%20%20%0A%3C/head%3E%0A%3Cbody%3E%20%20%20%20%0A%20%20%20%20%0A%20%20%20%20%20%20%20%20%20%20%20%20%3Cdiv%20class%3D%22folium-map%22%20id%3D%22map_68504d9f8a4344c58a2f45fbf8245a0c%22%20%3E%3C/div%3E%0A%20%20%20%20%20%20%20%20%0A%3C/body%3E%0A%3Cscript%3E%20%20%20%20%0A%20%20%20%20%0A%20%20%20%20%20%20%20%20%20%20%20%20var%20map_68504d9f8a4344c58a2f45fbf8245a0c%20%3D%20L.map%28%0A%20%20%20%20%20%20%20%20%20%20%20%20%20%20%20%20%22map_68504d9f8a4344c58a2f45fbf8245a0c%22%2C%0A%20%20%20%20%20%20%20%20%20%20%20%20%20%20%20%20%7B%0A%20%20%20%20%20%20%20%20%20%20%20%20%20%20%20%20%20%20%20%20center%3A%20%5B40.71441636809976%2C%2030.203692574148704%5D%2C%0A%20%20%20%20%20%20%20%20%20%20%20%20%20%20%20%20%20%20%20%20crs%3A%20L.CRS.EPSG3857%2C%0A%20%20%20%20%20%20%20%20%20%20%20%20%20%20%20%20%20%20%20%20zoom%3A%2013%2C%0A%20%20%20%20%20%20%20%20%20%20%20%20%20%20%20%20%20%20%20%20zoomControl%3A%20true%2C%0A%20%20%20%20%20%20%20%20%20%20%20%20%20%20%20%20%20%20%20%20preferCanvas%3A%20false%2C%0A%20%20%20%20%20%20%20%20%20%20%20%20%20%20%20%20%7D%0A%20%20%20%20%20%20%20%20%20%20%20%20%29%3B%0A%0A%20%20%20%20%20%20%20%20%20%20%20%20%0A%0A%20%20%20%20%20%20%20%20%0A%20%20%20%20%0A%20%20%20%20%20%20%20%20%20%20%20%20var%20tile_layer_a47b7c909d1c4cea895bad378976f1e9%20%3D%20L.tileLayer%28%0A%20%20%20%20%20%20%20%20%20%20%20%20%20%20%20%20%22https%3A//%7Bs%7D.tile.openstreetmap.org/%7Bz%7D/%7Bx%7D/%7By%7D.png%22%2C%0A%20%20%20%20%20%20%20%20%20%20%20%20%20%20%20%20%7B%22attribution%22%3A%20%22Data%20by%20%5Cu0026copy%3B%20%5Cu003ca%20href%3D%5C%22http%3A//openstreetmap.org%5C%22%5Cu003eOpenStreetMap%5Cu003c/a%5Cu003e%2C%20under%20%5Cu003ca%20href%3D%5C%22http%3A//www.openstreetmap.org/copyright%5C%22%5Cu003eODbL%5Cu003c/a%5Cu003e.%22%2C%20%22detectRetina%22%3A%20false%2C%20%22maxNativeZoom%22%3A%2018%2C%20%22maxZoom%22%3A%2018%2C%20%22minZoom%22%3A%200%2C%20%22noWrap%22%3A%20false%2C%20%22opacity%22%3A%201%2C%20%22subdomains%22%3A%20%22abc%22%2C%20%22tms%22%3A%20false%7D%0A%20%20%20%20%20%20%20%20%20%20%20%20%29.addTo%28map_68504d9f8a4344c58a2f45fbf8245a0c%29%3B%0A%20%20%20%20%20%20%20%20%0A%3C/script%3E onload=\"this.contentDocument.open();this.contentDocument.write(    decodeURIComponent(this.getAttribute('data-html')));this.contentDocument.close();\" allowfullscreen webkitallowfullscreen mozallowfullscreen></iframe></div></div>"
      ],
      "text/plain": [
       "<folium.folium.Map at 0x19d94ed3b80>"
      ]
     },
     "execution_count": 10,
     "metadata": {},
     "output_type": "execute_result"
    },
    {
     "data": {
      "text/plain": [
       "<Figure size 1080x720 with 0 Axes>"
      ]
     },
     "metadata": {},
     "output_type": "display_data"
    }
   ],
   "source": [
    "plt.figure(figsize=(15, 10))\n",
    "\n",
    "map = folium.Map(location=[40.71441636809976, 30.203692574148704], zoom_start= 13)\n",
    "map"
   ]
  },
  {
   "cell_type": "markdown",
   "id": "0d4528ca",
   "metadata": {
    "papermill": {
     "duration": 0.066446,
     "end_time": "2021-09-23T15:25:34.043453",
     "exception": false,
     "start_time": "2021-09-23T15:25:33.977007",
     "status": "completed"
    },
    "tags": []
   },
   "source": [
    "# Perch \n"
   ]
  },
  {
   "cell_type": "markdown",
   "id": "28a56eb9",
   "metadata": {
    "papermill": {
     "duration": 0.06656,
     "end_time": "2021-09-23T15:25:34.176907",
     "exception": false,
     "start_time": "2021-09-23T15:25:34.110347",
     "status": "completed"
    },
    "tags": []
   },
   "source": [
    "<a href=\"https://ibb.co/NsDJbTt\"><img src=\"https://i.ibb.co/56pSwKG/perch.jpg\" alt=\"perch\" border=\"0\"></a>"
   ]
  },
  {
   "cell_type": "markdown",
   "id": "7f7cd418",
   "metadata": {
    "papermill": {
     "duration": 0.06554,
     "end_time": "2021-09-23T15:25:34.309165",
     "exception": false,
     "start_time": "2021-09-23T15:25:34.243625",
     "status": "completed"
    },
    "tags": []
   },
   "source": [
    "Perch is a common name for fish of the genus Perca, freshwater gamefish belonging to the family Percidae. The perch, of which three species occur in different geographical areas, lend their name to a large order of vertebrates: the Perciformes, from the Greek: πέρκη (perke), simply meaning perch, and the Latin forma meaning shape. Many species of freshwater gamefish more or less resemble perch, but belong to different genera. In fact, the exclusively saltwater-dwelling red drum is often referred to as a red perch, though by definition perch are freshwater fish. Though many fish are referred to as perch as a common name, to be considered a true perch, the fish must be of the family Percidae.\n",
    "\n",
    "**Speicies**\n",
    "\n",
    "**The European perch** (P. fluviatilis) is found in Europe and Asia. This species is typically greenish in color with dark vertical bars on its sides with a red or orange coloring in the tips of its fins. The European perch has been successfully introduced in New Zealand and Australia, where it is known as the redfin perch or English perch. In Australia, larger specimens have been bred, but the species rarely grows heavier than 2.7 kg (6 lb).\n",
    "\n",
    "**The Balkhash perch** (P. schrenkii) is found in Kazakhstan, (in Lake Balkhash and Lake Alakol), Uzbekistan, and China. It is very similar to the European perch, and grows to a comparable size.\n",
    "\n",
    "**The yellow perch** (P. flavescens), smaller and paler than the European perch, is found in North America. In northern areas, it is sometimes referred to as the lake perch. This species is prized for its food quality and has often been raised in hatcheries and introduced into areas in which it is not native. Yellow perch are almost identical in appearance to European perch, but have a more yellow coloring. These fish typically only reach a size of about 38 cm (15 in) and 1 kg (2 lb 3 oz)"
   ]
  },
  {
   "cell_type": "code",
   "execution_count": 11,
   "id": "1adfb6fa",
   "metadata": {
    "papermill": {
     "duration": 0.073806,
     "end_time": "2021-09-23T15:25:34.448889",
     "exception": false,
     "start_time": "2021-09-23T15:25:34.375083",
     "status": "completed"
    },
    "tags": []
   },
   "outputs": [],
   "source": [
    "df_perch = df[df[\"Species\"] == \"Perch\"]\n",
    "\n"
   ]
  },
  {
   "cell_type": "code",
   "execution_count": 12,
   "id": "140981c0",
   "metadata": {
    "papermill": {
     "duration": 0.09041,
     "end_time": "2021-09-23T15:25:34.605760",
     "exception": false,
     "start_time": "2021-09-23T15:25:34.515350",
     "status": "completed"
    },
    "tags": []
   },
   "outputs": [
    {
     "data": {
      "text/html": [
       "<div>\n",
       "<style scoped>\n",
       "    .dataframe tbody tr th:only-of-type {\n",
       "        vertical-align: middle;\n",
       "    }\n",
       "\n",
       "    .dataframe tbody tr th {\n",
       "        vertical-align: top;\n",
       "    }\n",
       "\n",
       "    .dataframe thead th {\n",
       "        text-align: right;\n",
       "    }\n",
       "</style>\n",
       "<table border=\"1\" class=\"dataframe\">\n",
       "  <thead>\n",
       "    <tr style=\"text-align: right;\">\n",
       "      <th></th>\n",
       "      <th>Weight</th>\n",
       "      <th>Length1</th>\n",
       "      <th>Length2</th>\n",
       "      <th>Length3</th>\n",
       "      <th>Height</th>\n",
       "      <th>Width</th>\n",
       "    </tr>\n",
       "  </thead>\n",
       "  <tbody>\n",
       "    <tr>\n",
       "      <th>count</th>\n",
       "      <td>56.000000</td>\n",
       "      <td>56.000000</td>\n",
       "      <td>56.000000</td>\n",
       "      <td>56.000000</td>\n",
       "      <td>56.000000</td>\n",
       "      <td>56.000000</td>\n",
       "    </tr>\n",
       "    <tr>\n",
       "      <th>mean</th>\n",
       "      <td>382.239286</td>\n",
       "      <td>25.735714</td>\n",
       "      <td>27.892857</td>\n",
       "      <td>29.571429</td>\n",
       "      <td>7.861870</td>\n",
       "      <td>4.745723</td>\n",
       "    </tr>\n",
       "    <tr>\n",
       "      <th>std</th>\n",
       "      <td>347.617717</td>\n",
       "      <td>8.561572</td>\n",
       "      <td>9.021668</td>\n",
       "      <td>9.529509</td>\n",
       "      <td>2.878177</td>\n",
       "      <td>1.774626</td>\n",
       "    </tr>\n",
       "    <tr>\n",
       "      <th>min</th>\n",
       "      <td>5.900000</td>\n",
       "      <td>7.500000</td>\n",
       "      <td>8.400000</td>\n",
       "      <td>8.800000</td>\n",
       "      <td>2.112000</td>\n",
       "      <td>1.408000</td>\n",
       "    </tr>\n",
       "    <tr>\n",
       "      <th>25%</th>\n",
       "      <td>120.000000</td>\n",
       "      <td>19.825000</td>\n",
       "      <td>21.825000</td>\n",
       "      <td>23.325000</td>\n",
       "      <td>5.692500</td>\n",
       "      <td>3.525000</td>\n",
       "    </tr>\n",
       "    <tr>\n",
       "      <th>50%</th>\n",
       "      <td>207.500000</td>\n",
       "      <td>23.250000</td>\n",
       "      <td>25.300000</td>\n",
       "      <td>26.750000</td>\n",
       "      <td>6.921800</td>\n",
       "      <td>4.154900</td>\n",
       "    </tr>\n",
       "    <tr>\n",
       "      <th>75%</th>\n",
       "      <td>692.500000</td>\n",
       "      <td>34.125000</td>\n",
       "      <td>36.625000</td>\n",
       "      <td>39.075000</td>\n",
       "      <td>10.846500</td>\n",
       "      <td>6.448125</td>\n",
       "    </tr>\n",
       "    <tr>\n",
       "      <th>max</th>\n",
       "      <td>1100.000000</td>\n",
       "      <td>41.100000</td>\n",
       "      <td>44.000000</td>\n",
       "      <td>46.600000</td>\n",
       "      <td>12.800200</td>\n",
       "      <td>8.142000</td>\n",
       "    </tr>\n",
       "  </tbody>\n",
       "</table>\n",
       "</div>"
      ],
      "text/plain": [
       "            Weight    Length1    Length2    Length3     Height      Width\n",
       "count    56.000000  56.000000  56.000000  56.000000  56.000000  56.000000\n",
       "mean    382.239286  25.735714  27.892857  29.571429   7.861870   4.745723\n",
       "std     347.617717   8.561572   9.021668   9.529509   2.878177   1.774626\n",
       "min       5.900000   7.500000   8.400000   8.800000   2.112000   1.408000\n",
       "25%     120.000000  19.825000  21.825000  23.325000   5.692500   3.525000\n",
       "50%     207.500000  23.250000  25.300000  26.750000   6.921800   4.154900\n",
       "75%     692.500000  34.125000  36.625000  39.075000  10.846500   6.448125\n",
       "max    1100.000000  41.100000  44.000000  46.600000  12.800200   8.142000"
      ]
     },
     "execution_count": 12,
     "metadata": {},
     "output_type": "execute_result"
    }
   ],
   "source": [
    "df_perch.describe()"
   ]
  },
  {
   "cell_type": "markdown",
   "id": "979499bb",
   "metadata": {
    "papermill": {
     "duration": 0.068868,
     "end_time": "2021-09-23T15:25:34.741181",
     "exception": false,
     "start_time": "2021-09-23T15:25:34.672313",
     "status": "completed"
    },
    "tags": []
   },
   "source": [
    "## Perch Graph\n",
    "- Histogram\n",
    "- Boxplot\n",
    "- 2D Denstiy\n",
    "- Map Locations"
   ]
  },
  {
   "cell_type": "code",
   "execution_count": 13,
   "id": "a168144f",
   "metadata": {
    "papermill": {
     "duration": 0.337633,
     "end_time": "2021-09-23T15:25:35.145789",
     "exception": false,
     "start_time": "2021-09-23T15:25:34.808156",
     "status": "completed"
    },
    "tags": []
   },
   "outputs": [
    {
     "data": {
      "text/plain": [
       "Text(0.5, 1.0, 'Perch Histogram')"
      ]
     },
     "execution_count": 13,
     "metadata": {},
     "output_type": "execute_result"
    },
    {
     "data": {
      "image/png": "[encoded data removed]",
      "text/plain": [
       "<Figure size 432x288 with 1 Axes>"
      ]
     },
     "metadata": {},
     "output_type": "display_data"
    }
   ],
   "source": [
    "sns.histplot(data=df_perch, x=\"Weight\", kde = True)\n",
    "plt.title(\"Perch Histogram\")\n",
    "\n"
   ]
  },
  {
   "cell_type": "code",
   "execution_count": 14,
   "id": "39c46212",
   "metadata": {
    "papermill": {
     "duration": 0.285772,
     "end_time": "2021-09-23T15:25:35.500561",
     "exception": false,
     "start_time": "2021-09-23T15:25:35.214789",
     "status": "completed"
    },
    "tags": []
   },
   "outputs": [
    {
     "data": {
      "text/plain": [
       "<AxesSubplot:>"
      ]
     },
     "execution_count": 14,
     "metadata": {},
     "output_type": "execute_result"
    },
    {
     "data": {
      "image/png": "[encoded data removed]",
      "text/plain": [
       "<Figure size 1080x864 with 1 Axes>"
      ]
     },
     "metadata": {},
     "output_type": "display_data"
    }
   ],
   "source": [
    "plt.figure(figsize=(15, 12))\n",
    "sns.boxplot(data=df_perch.loc[:, [\"Length1\",\"Length2\",\"Length3\", \"Height\",\"Width\"]])\n",
    "\n"
   ]
  },
  {
   "cell_type": "code",
   "execution_count": 15,
   "id": "98f7a1fa",
   "metadata": {
    "papermill": {
     "duration": 0.417852,
     "end_time": "2021-09-23T15:25:36.020207",
     "exception": false,
     "start_time": "2021-09-23T15:25:35.602355",
     "status": "completed"
    },
    "tags": []
   },
   "outputs": [
    {
     "data": {
      "text/plain": [
       "<AxesSubplot:xlabel='Weight', ylabel='Length1'>"
      ]
     },
     "execution_count": 15,
     "metadata": {},
     "output_type": "execute_result"
    },
    {
     "data": {
      "image/png": "[encoded data removed]",
      "text/plain": [
       "<Figure size 1080x864 with 1 Axes>"
      ]
     },
     "metadata": {},
     "output_type": "display_data"
    }
   ],
   "source": [
    "plt.figure(figsize=(15, 12))\n",
    "sns.kdeplot(x = df_perch[\"Weight\"], y = df_perch[\"Length1\"], cmap = \"Reds\", shade = True, bw_adjust = .5)"
   ]
  },
  {
   "cell_type": "code",
   "execution_count": 16,
   "id": "311f81d5",
   "metadata": {
    "papermill": {
     "duration": 0.122804,
     "end_time": "2021-09-23T15:25:36.246896",
     "exception": false,
     "start_time": "2021-09-23T15:25:36.124092",
     "status": "completed"
    },
    "tags": []
   },
   "outputs": [
    {
     "data": {
      "text/html": [
       "<div style=\"width:100%;\"><div style=\"position:relative;width:100%;height:0;padding-bottom:60%;\"><span style=\"color:#565656\">Make this Notebook Trusted to load map: File -> Trust Notebook</span><iframe src=\"about:blank\" style=\"position:absolute;width:100%;height:100%;left:0;top:0;border:none !important;\" data-html=%3C%21DOCTYPE%20html%3E%0A%3Chead%3E%20%20%20%20%0A%20%20%20%20%3Cmeta%20http-equiv%3D%22content-type%22%20content%3D%22text/html%3B%20charset%3DUTF-8%22%20/%3E%0A%20%20%20%20%0A%20%20%20%20%20%20%20%20%3Cscript%3E%0A%20%20%20%20%20%20%20%20%20%20%20%20L_NO_TOUCH%20%3D%20false%3B%0A%20%20%20%20%20%20%20%20%20%20%20%20L_DISABLE_3D%20%3D%20false%3B%0A%20%20%20%20%20%20%20%20%3C/script%3E%0A%20%20%20%20%0A%20%20%20%20%3Cstyle%3Ehtml%2C%20body%20%7Bwidth%3A%20100%25%3Bheight%3A%20100%25%3Bmargin%3A%200%3Bpadding%3A%200%3B%7D%3C/style%3E%0A%20%20%20%20%3Cstyle%3E%23map%20%7Bposition%3Aabsolute%3Btop%3A0%3Bbottom%3A0%3Bright%3A0%3Bleft%3A0%3B%7D%3C/style%3E%0A%20%20%20%20%3Cscript%20src%3D%22https%3A//cdn.jsdelivr.net/npm/leaflet%401.6.0/dist/leaflet.js%22%3E%3C/script%3E%0A%20%20%20%20%3Cscript%20src%3D%22https%3A//code.jquery.com/jquery-1.12.4.min.js%22%3E%3C/script%3E%0A%20%20%20%20%3Cscript%20src%3D%22https%3A//maxcdn.bootstrapcdn.com/bootstrap/3.2.0/js/bootstrap.min.js%22%3E%3C/script%3E%0A%20%20%20%20%3Cscript%20src%3D%22https%3A//cdnjs.cloudflare.com/ajax/libs/Leaflet.awesome-markers/2.0.2/leaflet.awesome-markers.js%22%3E%3C/script%3E%0A%20%20%20%20%3Clink%20rel%3D%22stylesheet%22%20href%3D%22https%3A//cdn.jsdelivr.net/npm/leaflet%401.6.0/dist/leaflet.css%22/%3E%0A%20%20%20%20%3Clink%20rel%3D%22stylesheet%22%20href%3D%22https%3A//maxcdn.bootstrapcdn.com/bootstrap/3.2.0/css/bootstrap.min.css%22/%3E%0A%20%20%20%20%3Clink%20rel%3D%22stylesheet%22%20href%3D%22https%3A//maxcdn.bootstrapcdn.com/bootstrap/3.2.0/css/bootstrap-theme.min.css%22/%3E%0A%20%20%20%20%3Clink%20rel%3D%22stylesheet%22%20href%3D%22https%3A//maxcdn.bootstrapcdn.com/font-awesome/4.6.3/css/font-awesome.min.css%22/%3E%0A%20%20%20%20%3Clink%20rel%3D%22stylesheet%22%20href%3D%22https%3A//cdnjs.cloudflare.com/ajax/libs/Leaflet.awesome-markers/2.0.2/leaflet.awesome-markers.css%22/%3E%0A%20%20%20%20%3Clink%20rel%3D%22stylesheet%22%20href%3D%22https%3A//cdn.jsdelivr.net/gh/python-visualization/folium/folium/templates/leaflet.awesome.rotate.min.css%22/%3E%0A%20%20%20%20%0A%20%20%20%20%20%20%20%20%20%20%20%20%3Cmeta%20name%3D%22viewport%22%20content%3D%22width%3Ddevice-width%2C%0A%20%20%20%20%20%20%20%20%20%20%20%20%20%20%20%20initial-scale%3D1.0%2C%20maximum-scale%3D1.0%2C%20user-scalable%3Dno%22%20/%3E%0A%20%20%20%20%20%20%20%20%20%20%20%20%3Cstyle%3E%0A%20%20%20%20%20%20%20%20%20%20%20%20%20%20%20%20%23map_83c3e06979fe402d935518c2cf62b2a2%20%7B%0A%20%20%20%20%20%20%20%20%20%20%20%20%20%20%20%20%20%20%20%20position%3A%20relative%3B%0A%20%20%20%20%20%20%20%20%20%20%20%20%20%20%20%20%20%20%20%20width%3A%20100.0%25%3B%0A%20%20%20%20%20%20%20%20%20%20%20%20%20%20%20%20%20%20%20%20height%3A%20100.0%25%3B%0A%20%20%20%20%20%20%20%20%20%20%20%20%20%20%20%20%20%20%20%20left%3A%200.0%25%3B%0A%20%20%20%20%20%20%20%20%20%20%20%20%20%20%20%20%20%20%20%20top%3A%200.0%25%3B%0A%20%20%20%20%20%20%20%20%20%20%20%20%20%20%20%20%7D%0A%20%20%20%20%20%20%20%20%20%20%20%20%3C/style%3E%0A%20%20%20%20%20%20%20%20%0A%3C/head%3E%0A%3Cbody%3E%20%20%20%20%0A%20%20%20%20%0A%20%20%20%20%20%20%20%20%20%20%20%20%3Cdiv%20class%3D%22folium-map%22%20id%3D%22map_83c3e06979fe402d935518c2cf62b2a2%22%20%3E%3C/div%3E%0A%20%20%20%20%20%20%20%20%0A%3C/body%3E%0A%3Cscript%3E%20%20%20%20%0A%20%20%20%20%0A%20%20%20%20%20%20%20%20%20%20%20%20var%20map_83c3e06979fe402d935518c2cf62b2a2%20%3D%20L.map%28%0A%20%20%20%20%20%20%20%20%20%20%20%20%20%20%20%20%22map_83c3e06979fe402d935518c2cf62b2a2%22%2C%0A%20%20%20%20%20%20%20%20%20%20%20%20%20%20%20%20%7B%0A%20%20%20%20%20%20%20%20%20%20%20%20%20%20%20%20%20%20%20%20center%3A%20%5B40.14510606395323%2C%2032.39492539061836%5D%2C%0A%20%20%20%20%20%20%20%20%20%20%20%20%20%20%20%20%20%20%20%20crs%3A%20L.CRS.EPSG3857%2C%0A%20%20%20%20%20%20%20%20%20%20%20%20%20%20%20%20%20%20%20%20zoom%3A%2015%2C%0A%20%20%20%20%20%20%20%20%20%20%20%20%20%20%20%20%20%20%20%20zoomControl%3A%20true%2C%0A%20%20%20%20%20%20%20%20%20%20%20%20%20%20%20%20%20%20%20%20preferCanvas%3A%20false%2C%0A%20%20%20%20%20%20%20%20%20%20%20%20%20%20%20%20%7D%0A%20%20%20%20%20%20%20%20%20%20%20%20%29%3B%0A%0A%20%20%20%20%20%20%20%20%20%20%20%20%0A%0A%20%20%20%20%20%20%20%20%0A%20%20%20%20%0A%20%20%20%20%20%20%20%20%20%20%20%20var%20tile_layer_79a86cb274504dd2ad52e7cc28e4090c%20%3D%20L.tileLayer%28%0A%20%20%20%20%20%20%20%20%20%20%20%20%20%20%20%20%22https%3A//%7Bs%7D.tile.openstreetmap.org/%7Bz%7D/%7Bx%7D/%7By%7D.png%22%2C%0A%20%20%20%20%20%20%20%20%20%20%20%20%20%20%20%20%7B%22attribution%22%3A%20%22Data%20by%20%5Cu0026copy%3B%20%5Cu003ca%20href%3D%5C%22http%3A//openstreetmap.org%5C%22%5Cu003eOpenStreetMap%5Cu003c/a%5Cu003e%2C%20under%20%5Cu003ca%20href%3D%5C%22http%3A//www.openstreetmap.org/copyright%5C%22%5Cu003eODbL%5Cu003c/a%5Cu003e.%22%2C%20%22detectRetina%22%3A%20false%2C%20%22maxNativeZoom%22%3A%2018%2C%20%22maxZoom%22%3A%2018%2C%20%22minZoom%22%3A%200%2C%20%22noWrap%22%3A%20false%2C%20%22opacity%22%3A%201%2C%20%22subdomains%22%3A%20%22abc%22%2C%20%22tms%22%3A%20false%7D%0A%20%20%20%20%20%20%20%20%20%20%20%20%29.addTo%28map_83c3e06979fe402d935518c2cf62b2a2%29%3B%0A%20%20%20%20%20%20%20%20%0A%3C/script%3E onload=\"this.contentDocument.open();this.contentDocument.write(    decodeURIComponent(this.getAttribute('data-html')));this.contentDocument.close();\" allowfullscreen webkitallowfullscreen mozallowfullscreen></iframe></div></div>"
      ],
      "text/plain": [
       "<folium.folium.Map at 0x19d9559bd60>"
      ]
     },
     "execution_count": 16,
     "metadata": {},
     "output_type": "execute_result"
    },
    {
     "data": {
      "text/plain": [
       "<Figure size 1080x720 with 0 Axes>"
      ]
     },
     "metadata": {},
     "output_type": "display_data"
    }
   ],
   "source": [
    "plt.figure(figsize=(15, 10))\n",
    "\n",
    "map = folium.Map(location=[40.14510606395323, 32.39492539061836], zoom_start= 15)\n",
    "map"
   ]
  },
  {
   "cell_type": "markdown",
   "id": "428b2934",
   "metadata": {
    "papermill": {
     "duration": 0.071408,
     "end_time": "2021-09-23T15:25:36.388775",
     "exception": false,
     "start_time": "2021-09-23T15:25:36.317367",
     "status": "completed"
    },
    "tags": []
   },
   "source": [
    "# Smelt"
   ]
  },
  {
   "cell_type": "markdown",
   "id": "077fcc0f",
   "metadata": {
    "papermill": {
     "duration": 0.071554,
     "end_time": "2021-09-23T15:25:36.529087",
     "exception": false,
     "start_time": "2021-09-23T15:25:36.457533",
     "status": "completed"
    },
    "tags": []
   },
   "source": [
    "![](https://upload.wikimedia.org/wikipedia/commons/thumb/2/2b/Pond_smelt_illustration.jpg/220px-Pond_smelt_illustration.jpg)"
   ]
  },
  {
   "cell_type": "markdown",
   "id": "b5b00721",
   "metadata": {
    "papermill": {
     "duration": 0.07042,
     "end_time": "2021-09-23T15:25:36.670909",
     "exception": false,
     "start_time": "2021-09-23T15:25:36.600489",
     "status": "completed"
    },
    "tags": []
   },
   "source": [
    "Smelts are a family of small fish, the Osmeridae, found in the North Atlantic and North Pacific Oceans, as well as rivers, streams and lakes in Europe, North America and Northeast Asia. They are also known as freshwater smelts or typical smelts to distinguish them from the related Argentinidae (herring smelts or argentines), Bathylagidae (deep-sea smelts), and Retropinnidae (Australian and New Zealand smelts).\n",
    "\n",
    "Some smelt species are common in the North American Great Lakes, and in the lakes and seas of the northern part of Europe, where they run in large schools along the saltwater coastline during spring migration to their spawning streams. In some western parts of the United States, smelt populations have greatly declined in recent decades, leading to their protection under the Endangered Species Act. The Delta smelt (Hypomesus transpacificus) found in the Sacramento Delta of California, and the eulachon (Thaleichthys pacificus) found in the Northeast Pacific and adjacent rivers, are both protected from harvest.\n",
    "\n",
    "Some species of smelts are among the few fish that sportsmen have been allowed to net, using hand-held dip nets, either along the coastline or in streams. Some sportsmen also ice fish for smelt. They are often fried and eaten whole."
   ]
  },
  {
   "cell_type": "code",
   "execution_count": 17,
   "id": "b8a57bf5",
   "metadata": {
    "papermill": {
     "duration": 0.076002,
     "end_time": "2021-09-23T15:25:36.817207",
     "exception": false,
     "start_time": "2021-09-23T15:25:36.741205",
     "status": "completed"
    },
    "tags": []
   },
   "outputs": [],
   "source": [
    "df_smelt = df[df[\"Species\"] == \"Smelt\"]"
   ]
  },
  {
   "cell_type": "code",
   "execution_count": 18,
   "id": "561c689f",
   "metadata": {
    "papermill": {
     "duration": 0.098495,
     "end_time": "2021-09-23T15:25:36.985764",
     "exception": false,
     "start_time": "2021-09-23T15:25:36.887269",
     "status": "completed"
    },
    "tags": []
   },
   "outputs": [
    {
     "data": {
      "text/html": [
       "<div>\n",
       "<style scoped>\n",
       "    .dataframe tbody tr th:only-of-type {\n",
       "        vertical-align: middle;\n",
       "    }\n",
       "\n",
       "    .dataframe tbody tr th {\n",
       "        vertical-align: top;\n",
       "    }\n",
       "\n",
       "    .dataframe thead th {\n",
       "        text-align: right;\n",
       "    }\n",
       "</style>\n",
       "<table border=\"1\" class=\"dataframe\">\n",
       "  <thead>\n",
       "    <tr style=\"text-align: right;\">\n",
       "      <th></th>\n",
       "      <th>Weight</th>\n",
       "      <th>Length1</th>\n",
       "      <th>Length2</th>\n",
       "      <th>Length3</th>\n",
       "      <th>Height</th>\n",
       "      <th>Width</th>\n",
       "    </tr>\n",
       "  </thead>\n",
       "  <tbody>\n",
       "    <tr>\n",
       "      <th>count</th>\n",
       "      <td>14.000000</td>\n",
       "      <td>14.000000</td>\n",
       "      <td>14.000000</td>\n",
       "      <td>14.000000</td>\n",
       "      <td>14.000000</td>\n",
       "      <td>14.000000</td>\n",
       "    </tr>\n",
       "    <tr>\n",
       "      <th>mean</th>\n",
       "      <td>11.178571</td>\n",
       "      <td>11.257143</td>\n",
       "      <td>11.921429</td>\n",
       "      <td>13.035714</td>\n",
       "      <td>2.209371</td>\n",
       "      <td>1.340093</td>\n",
       "    </tr>\n",
       "    <tr>\n",
       "      <th>std</th>\n",
       "      <td>4.131526</td>\n",
       "      <td>1.216372</td>\n",
       "      <td>1.432147</td>\n",
       "      <td>1.426457</td>\n",
       "      <td>0.351780</td>\n",
       "      <td>0.286611</td>\n",
       "    </tr>\n",
       "    <tr>\n",
       "      <th>min</th>\n",
       "      <td>6.700000</td>\n",
       "      <td>9.300000</td>\n",
       "      <td>9.800000</td>\n",
       "      <td>10.800000</td>\n",
       "      <td>1.728400</td>\n",
       "      <td>1.047600</td>\n",
       "    </tr>\n",
       "    <tr>\n",
       "      <th>25%</th>\n",
       "      <td>8.950000</td>\n",
       "      <td>10.475000</td>\n",
       "      <td>11.050000</td>\n",
       "      <td>12.100000</td>\n",
       "      <td>2.004450</td>\n",
       "      <td>1.161475</td>\n",
       "    </tr>\n",
       "    <tr>\n",
       "      <th>50%</th>\n",
       "      <td>9.850000</td>\n",
       "      <td>11.300000</td>\n",
       "      <td>11.800000</td>\n",
       "      <td>13.100000</td>\n",
       "      <td>2.200200</td>\n",
       "      <td>1.273100</td>\n",
       "    </tr>\n",
       "    <tr>\n",
       "      <th>75%</th>\n",
       "      <td>12.200000</td>\n",
       "      <td>11.650000</td>\n",
       "      <td>12.350000</td>\n",
       "      <td>13.475000</td>\n",
       "      <td>2.261225</td>\n",
       "      <td>1.356300</td>\n",
       "    </tr>\n",
       "    <tr>\n",
       "      <th>max</th>\n",
       "      <td>19.900000</td>\n",
       "      <td>13.800000</td>\n",
       "      <td>15.000000</td>\n",
       "      <td>16.200000</td>\n",
       "      <td>2.932200</td>\n",
       "      <td>2.067200</td>\n",
       "    </tr>\n",
       "  </tbody>\n",
       "</table>\n",
       "</div>"
      ],
      "text/plain": [
       "          Weight    Length1    Length2    Length3     Height      Width\n",
       "count  14.000000  14.000000  14.000000  14.000000  14.000000  14.000000\n",
       "mean   11.178571  11.257143  11.921429  13.035714   2.209371   1.340093\n",
       "std     4.131526   1.216372   1.432147   1.426457   0.351780   0.286611\n",
       "min     6.700000   9.300000   9.800000  10.800000   1.728400   1.047600\n",
       "25%     8.950000  10.475000  11.050000  12.100000   2.004450   1.161475\n",
       "50%     9.850000  11.300000  11.800000  13.100000   2.200200   1.273100\n",
       "75%    12.200000  11.650000  12.350000  13.475000   2.261225   1.356300\n",
       "max    19.900000  13.800000  15.000000  16.200000   2.932200   2.067200"
      ]
     },
     "execution_count": 18,
     "metadata": {},
     "output_type": "execute_result"
    }
   ],
   "source": [
    "df_smelt.describe()"
   ]
  },
  {
   "cell_type": "markdown",
   "id": "645b2594",
   "metadata": {
    "papermill": {
     "duration": 0.070259,
     "end_time": "2021-09-23T15:25:37.128144",
     "exception": false,
     "start_time": "2021-09-23T15:25:37.057885",
     "status": "completed"
    },
    "tags": []
   },
   "source": [
    "## Smelt Graph\n",
    "- Histogram\n",
    "- Boxplot\n",
    "- 2D Denstiy\n",
    "- Map Locations"
   ]
  },
  {
   "cell_type": "code",
   "execution_count": 19,
   "id": "8b71321d",
   "metadata": {
    "papermill": {
     "duration": 0.286968,
     "end_time": "2021-09-23T15:25:37.486496",
     "exception": false,
     "start_time": "2021-09-23T15:25:37.199528",
     "status": "completed"
    },
    "tags": []
   },
   "outputs": [
    {
     "data": {
      "text/plain": [
       "Text(0.5, 1.0, 'Smelt Histogram')"
      ]
     },
     "execution_count": 19,
     "metadata": {},
     "output_type": "execute_result"
    },
    {
     "data": {
      "image/png": "[encoded data removed]",
      "text/plain": [
       "<Figure size 432x288 with 1 Axes>"
      ]
     },
     "metadata": {},
     "output_type": "display_data"
    }
   ],
   "source": [
    "sns.histplot(data=df_smelt, x=\"Weight\", kde = True)\n",
    "plt.title(\"Smelt Histogram\")"
   ]
  },
  {
   "cell_type": "code",
   "execution_count": 20,
   "id": "86d71008",
   "metadata": {
    "papermill": {
     "duration": 0.345321,
     "end_time": "2021-09-23T15:25:37.939339",
     "exception": false,
     "start_time": "2021-09-23T15:25:37.594018",
     "status": "completed"
    },
    "tags": []
   },
   "outputs": [
    {
     "data": {
      "text/plain": [
       "<AxesSubplot:>"
      ]
     },
     "execution_count": 20,
     "metadata": {},
     "output_type": "execute_result"
    },
    {
     "data": {
      "image/png": "[encoded data removed]",
      "text/plain": [
       "<Figure size 1080x864 with 1 Axes>"
      ]
     },
     "metadata": {},
     "output_type": "display_data"
    }
   ],
   "source": [
    "\n",
    "plt.figure(figsize=(15, 12))\n",
    "sns.boxplot(data=df_smelt.loc[:, [\"Length1\",\"Length2\",\"Length3\", \"Height\",\"Width\"]])"
   ]
  },
  {
   "cell_type": "code",
   "execution_count": 21,
   "id": "ecb20383",
   "metadata": {
    "papermill": {
     "duration": 0.457884,
     "end_time": "2021-09-23T15:25:38.469167",
     "exception": false,
     "start_time": "2021-09-23T15:25:38.011283",
     "status": "completed"
    },
    "tags": []
   },
   "outputs": [
    {
     "data": {
      "text/plain": [
       "<AxesSubplot:xlabel='Weight', ylabel='Length1'>"
      ]
     },
     "execution_count": 21,
     "metadata": {},
     "output_type": "execute_result"
    },
    {
     "data": {
      "image/png": "[encoded data removed]",
      "text/plain": [
       "<Figure size 1080x864 with 1 Axes>"
      ]
     },
     "metadata": {},
     "output_type": "display_data"
    }
   ],
   "source": [
    "\n",
    "plt.figure(figsize=(15, 12))\n",
    "sns.kdeplot(x = df_smelt[\"Weight\"], y = df_smelt[\"Length1\"], cmap = \"Reds\", shade = True, bw_adjust = .5)"
   ]
  },
  {
   "cell_type": "markdown",
   "id": "d0832210",
   "metadata": {
    "papermill": {
     "duration": 0.176867,
     "end_time": "2021-09-23T15:25:38.755863",
     "exception": false,
     "start_time": "2021-09-23T15:25:38.578996",
     "status": "completed"
    },
    "tags": []
   },
   "source": [
    "**Locations**\n",
    "\n",
    "![](https://www.fishbase.se/images/aquamaps/native/pic_Fis-23705.jpg)"
   ]
  },
  {
   "cell_type": "code",
   "execution_count": 22,
   "id": "aaf91e32",
   "metadata": {
    "papermill": {
     "duration": 0.132486,
     "end_time": "2021-09-23T15:25:39.000619",
     "exception": false,
     "start_time": "2021-09-23T15:25:38.868133",
     "status": "completed"
    },
    "tags": []
   },
   "outputs": [
    {
     "data": {
      "text/html": [
       "<div style=\"width:100%;\"><div style=\"position:relative;width:100%;height:0;padding-bottom:60%;\"><span style=\"color:#565656\">Make this Notebook Trusted to load map: File -> Trust Notebook</span><iframe src=\"about:blank\" style=\"position:absolute;width:100%;height:100%;left:0;top:0;border:none !important;\" data-html=%3C%21DOCTYPE%20html%3E%0A%3Chead%3E%20%20%20%20%0A%20%20%20%20%3Cmeta%20http-equiv%3D%22content-type%22%20content%3D%22text/html%3B%20charset%3DUTF-8%22%20/%3E%0A%20%20%20%20%0A%20%20%20%20%20%20%20%20%3Cscript%3E%0A%20%20%20%20%20%20%20%20%20%20%20%20L_NO_TOUCH%20%3D%20false%3B%0A%20%20%20%20%20%20%20%20%20%20%20%20L_DISABLE_3D%20%3D%20false%3B%0A%20%20%20%20%20%20%20%20%3C/script%3E%0A%20%20%20%20%0A%20%20%20%20%3Cstyle%3Ehtml%2C%20body%20%7Bwidth%3A%20100%25%3Bheight%3A%20100%25%3Bmargin%3A%200%3Bpadding%3A%200%3B%7D%3C/style%3E%0A%20%20%20%20%3Cstyle%3E%23map%20%7Bposition%3Aabsolute%3Btop%3A0%3Bbottom%3A0%3Bright%3A0%3Bleft%3A0%3B%7D%3C/style%3E%0A%20%20%20%20%3Cscript%20src%3D%22https%3A//cdn.jsdelivr.net/npm/leaflet%401.6.0/dist/leaflet.js%22%3E%3C/script%3E%0A%20%20%20%20%3Cscript%20src%3D%22https%3A//code.jquery.com/jquery-1.12.4.min.js%22%3E%3C/script%3E%0A%20%20%20%20%3Cscript%20src%3D%22https%3A//maxcdn.bootstrapcdn.com/bootstrap/3.2.0/js/bootstrap.min.js%22%3E%3C/script%3E%0A%20%20%20%20%3Cscript%20src%3D%22https%3A//cdnjs.cloudflare.com/ajax/libs/Leaflet.awesome-markers/2.0.2/leaflet.awesome-markers.js%22%3E%3C/script%3E%0A%20%20%20%20%3Clink%20rel%3D%22stylesheet%22%20href%3D%22https%3A//cdn.jsdelivr.net/npm/leaflet%401.6.0/dist/leaflet.css%22/%3E%0A%20%20%20%20%3Clink%20rel%3D%22stylesheet%22%20href%3D%22https%3A//maxcdn.bootstrapcdn.com/bootstrap/3.2.0/css/bootstrap.min.css%22/%3E%0A%20%20%20%20%3Clink%20rel%3D%22stylesheet%22%20href%3D%22https%3A//maxcdn.bootstrapcdn.com/bootstrap/3.2.0/css/bootstrap-theme.min.css%22/%3E%0A%20%20%20%20%3Clink%20rel%3D%22stylesheet%22%20href%3D%22https%3A//maxcdn.bootstrapcdn.com/font-awesome/4.6.3/css/font-awesome.min.css%22/%3E%0A%20%20%20%20%3Clink%20rel%3D%22stylesheet%22%20href%3D%22https%3A//cdnjs.cloudflare.com/ajax/libs/Leaflet.awesome-markers/2.0.2/leaflet.awesome-markers.css%22/%3E%0A%20%20%20%20%3Clink%20rel%3D%22stylesheet%22%20href%3D%22https%3A//cdn.jsdelivr.net/gh/python-visualization/folium/folium/templates/leaflet.awesome.rotate.min.css%22/%3E%0A%20%20%20%20%0A%20%20%20%20%20%20%20%20%20%20%20%20%3Cmeta%20name%3D%22viewport%22%20content%3D%22width%3Ddevice-width%2C%0A%20%20%20%20%20%20%20%20%20%20%20%20%20%20%20%20initial-scale%3D1.0%2C%20maximum-scale%3D1.0%2C%20user-scalable%3Dno%22%20/%3E%0A%20%20%20%20%20%20%20%20%20%20%20%20%3Cstyle%3E%0A%20%20%20%20%20%20%20%20%20%20%20%20%20%20%20%20%23map_024896bece8444e3af145b84f7fef035%20%7B%0A%20%20%20%20%20%20%20%20%20%20%20%20%20%20%20%20%20%20%20%20position%3A%20relative%3B%0A%20%20%20%20%20%20%20%20%20%20%20%20%20%20%20%20%20%20%20%20width%3A%20100.0%25%3B%0A%20%20%20%20%20%20%20%20%20%20%20%20%20%20%20%20%20%20%20%20height%3A%20100.0%25%3B%0A%20%20%20%20%20%20%20%20%20%20%20%20%20%20%20%20%20%20%20%20left%3A%200.0%25%3B%0A%20%20%20%20%20%20%20%20%20%20%20%20%20%20%20%20%20%20%20%20top%3A%200.0%25%3B%0A%20%20%20%20%20%20%20%20%20%20%20%20%20%20%20%20%7D%0A%20%20%20%20%20%20%20%20%20%20%20%20%3C/style%3E%0A%20%20%20%20%20%20%20%20%0A%3C/head%3E%0A%3Cbody%3E%20%20%20%20%0A%20%20%20%20%0A%20%20%20%20%20%20%20%20%20%20%20%20%3Cdiv%20class%3D%22folium-map%22%20id%3D%22map_024896bece8444e3af145b84f7fef035%22%20%3E%3C/div%3E%0A%20%20%20%20%20%20%20%20%0A%3C/body%3E%0A%3Cscript%3E%20%20%20%20%0A%20%20%20%20%0A%20%20%20%20%20%20%20%20%20%20%20%20var%20map_024896bece8444e3af145b84f7fef035%20%3D%20L.map%28%0A%20%20%20%20%20%20%20%20%20%20%20%20%20%20%20%20%22map_024896bece8444e3af145b84f7fef035%22%2C%0A%20%20%20%20%20%20%20%20%20%20%20%20%20%20%20%20%7B%0A%20%20%20%20%20%20%20%20%20%20%20%20%20%20%20%20%20%20%20%20center%3A%20%5B54.28949846414915%2C%207.7506463026588595%5D%2C%0A%20%20%20%20%20%20%20%20%20%20%20%20%20%20%20%20%20%20%20%20crs%3A%20L.CRS.EPSG3857%2C%0A%20%20%20%20%20%20%20%20%20%20%20%20%20%20%20%20%20%20%20%20zoom%3A%206%2C%0A%20%20%20%20%20%20%20%20%20%20%20%20%20%20%20%20%20%20%20%20zoomControl%3A%20true%2C%0A%20%20%20%20%20%20%20%20%20%20%20%20%20%20%20%20%20%20%20%20preferCanvas%3A%20false%2C%0A%20%20%20%20%20%20%20%20%20%20%20%20%20%20%20%20%7D%0A%20%20%20%20%20%20%20%20%20%20%20%20%29%3B%0A%0A%20%20%20%20%20%20%20%20%20%20%20%20%0A%0A%20%20%20%20%20%20%20%20%0A%20%20%20%20%0A%20%20%20%20%20%20%20%20%20%20%20%20var%20tile_layer_6d78dd9ed31d4ad999c6067d0986cc3a%20%3D%20L.tileLayer%28%0A%20%20%20%20%20%20%20%20%20%20%20%20%20%20%20%20%22https%3A//%7Bs%7D.tile.openstreetmap.org/%7Bz%7D/%7Bx%7D/%7By%7D.png%22%2C%0A%20%20%20%20%20%20%20%20%20%20%20%20%20%20%20%20%7B%22attribution%22%3A%20%22Data%20by%20%5Cu0026copy%3B%20%5Cu003ca%20href%3D%5C%22http%3A//openstreetmap.org%5C%22%5Cu003eOpenStreetMap%5Cu003c/a%5Cu003e%2C%20under%20%5Cu003ca%20href%3D%5C%22http%3A//www.openstreetmap.org/copyright%5C%22%5Cu003eODbL%5Cu003c/a%5Cu003e.%22%2C%20%22detectRetina%22%3A%20false%2C%20%22maxNativeZoom%22%3A%2018%2C%20%22maxZoom%22%3A%2018%2C%20%22minZoom%22%3A%200%2C%20%22noWrap%22%3A%20false%2C%20%22opacity%22%3A%201%2C%20%22subdomains%22%3A%20%22abc%22%2C%20%22tms%22%3A%20false%7D%0A%20%20%20%20%20%20%20%20%20%20%20%20%29.addTo%28map_024896bece8444e3af145b84f7fef035%29%3B%0A%20%20%20%20%20%20%20%20%0A%3C/script%3E onload=\"this.contentDocument.open();this.contentDocument.write(    decodeURIComponent(this.getAttribute('data-html')));this.contentDocument.close();\" allowfullscreen webkitallowfullscreen mozallowfullscreen></iframe></div></div>"
      ],
      "text/plain": [
       "<folium.folium.Map at 0x19d95c65280>"
      ]
     },
     "execution_count": 22,
     "metadata": {},
     "output_type": "execute_result"
    },
    {
     "data": {
      "text/plain": [
       "<Figure size 1080x720 with 0 Axes>"
      ]
     },
     "metadata": {},
     "output_type": "display_data"
    }
   ],
   "source": [
    "plt.figure(figsize=(15, 10))\n",
    "\n",
    "map = folium.Map(location=[54.28949846414915, 7.7506463026588595], zoom_start= 6)\n",
    "map"
   ]
  },
  {
   "cell_type": "markdown",
   "id": "6963fa98",
   "metadata": {
    "papermill": {
     "duration": 0.110654,
     "end_time": "2021-09-23T15:25:39.222466",
     "exception": false,
     "start_time": "2021-09-23T15:25:39.111812",
     "status": "completed"
    },
    "tags": []
   },
   "source": [
    "# Whitefish"
   ]
  },
  {
   "cell_type": "markdown",
   "id": "ec379e06",
   "metadata": {
    "papermill": {
     "duration": 0.113539,
     "end_time": "2021-09-23T15:25:39.450899",
     "exception": false,
     "start_time": "2021-09-23T15:25:39.337360",
     "status": "completed"
    },
    "tags": []
   },
   "source": [
    "![](https://www.roughfish.com/sites/default/files/styles/large/public/RF%20whitefish.jpg?itok=11zAXhVf)"
   ]
  },
  {
   "cell_type": "markdown",
   "id": "d3eeaefd",
   "metadata": {
    "papermill": {
     "duration": 0.111037,
     "end_time": "2021-09-23T15:25:39.674385",
     "exception": false,
     "start_time": "2021-09-23T15:25:39.563348",
     "status": "completed"
    },
    "tags": []
   },
   "source": [
    "Lake whitefish are similar in appearance to other whitefishes in the Coregoninae subfamily of the salmon family Salmonidae, such as the northern cisco (Coregonus artedi). As with all salmonids, they have an adipose fin.To the distinction from cisco, the lake whitefish has a snout which overhangs the short lower jaw, so that the mouth opens in a slightly inferior position. Thus the fish can feed on the bottom of lake beds or grab food particulates out of the water or from the surface of a water body. The cisco in turn has a short snout with a lower jaw that extends beyond the snout. Both the cisco and lake whitefish are discernible from the mooneye due to the small posterior dorsal adipose fin. Another notable feature of the lake whitefish is the presence of two small flaps in each nostril. Their coloration is typically silver to white with an olive to pale-green or brown dorsal hues. The ventral fins are white and the tail has a dark posterior edge. The tail fin of the lake whitefish is severely forked, making it a fast swimmer.\n",
    "\n",
    "Lake whitefish from inland lakes can reach a weight upwards of 5 pounds (2,300 g) (the largest Lake Whitefish caught on rod and reel is 15pounds 6 oz from Clear Lake Ontario Canada on May 21, 1983 by Chris T. D. Webster according to the Fresh Water Fishing Hall of Fame in Hayward Wis USA]]). On average, the lake whitefish weighs only 4 pounds. They can grow to 31 inches (79 cm) and commonly reach 20 inches (51 cm)."
   ]
  },
  {
   "cell_type": "code",
   "execution_count": 23,
   "id": "c99af7aa",
   "metadata": {
    "papermill": {
     "duration": 0.118968,
     "end_time": "2021-09-23T15:25:39.903583",
     "exception": false,
     "start_time": "2021-09-23T15:25:39.784615",
     "status": "completed"
    },
    "tags": []
   },
   "outputs": [],
   "source": [
    "df_whitefish = df[df[\"Species\"] == \"Whitefish\"]"
   ]
  },
  {
   "cell_type": "code",
   "execution_count": 24,
   "id": "fca9861c",
   "metadata": {
    "papermill": {
     "duration": 0.10856,
     "end_time": "2021-09-23T15:25:40.085372",
     "exception": false,
     "start_time": "2021-09-23T15:25:39.976812",
     "status": "completed"
    },
    "tags": []
   },
   "outputs": [
    {
     "data": {
      "text/html": [
       "<div>\n",
       "<style scoped>\n",
       "    .dataframe tbody tr th:only-of-type {\n",
       "        vertical-align: middle;\n",
       "    }\n",
       "\n",
       "    .dataframe tbody tr th {\n",
       "        vertical-align: top;\n",
       "    }\n",
       "\n",
       "    .dataframe thead th {\n",
       "        text-align: right;\n",
       "    }\n",
       "</style>\n",
       "<table border=\"1\" class=\"dataframe\">\n",
       "  <thead>\n",
       "    <tr style=\"text-align: right;\">\n",
       "      <th></th>\n",
       "      <th>Weight</th>\n",
       "      <th>Length1</th>\n",
       "      <th>Length2</th>\n",
       "      <th>Length3</th>\n",
       "      <th>Height</th>\n",
       "      <th>Width</th>\n",
       "    </tr>\n",
       "  </thead>\n",
       "  <tbody>\n",
       "    <tr>\n",
       "      <th>count</th>\n",
       "      <td>6.000000</td>\n",
       "      <td>6.000000</td>\n",
       "      <td>6.000000</td>\n",
       "      <td>6.000000</td>\n",
       "      <td>6.000000</td>\n",
       "      <td>6.000000</td>\n",
       "    </tr>\n",
       "    <tr>\n",
       "      <th>mean</th>\n",
       "      <td>531.000000</td>\n",
       "      <td>28.800000</td>\n",
       "      <td>31.316667</td>\n",
       "      <td>34.316667</td>\n",
       "      <td>10.027167</td>\n",
       "      <td>5.473050</td>\n",
       "    </tr>\n",
       "    <tr>\n",
       "      <th>std</th>\n",
       "      <td>309.602972</td>\n",
       "      <td>5.580681</td>\n",
       "      <td>5.723781</td>\n",
       "      <td>6.023759</td>\n",
       "      <td>1.830201</td>\n",
       "      <td>1.194258</td>\n",
       "    </tr>\n",
       "    <tr>\n",
       "      <th>min</th>\n",
       "      <td>270.000000</td>\n",
       "      <td>23.600000</td>\n",
       "      <td>26.000000</td>\n",
       "      <td>28.700000</td>\n",
       "      <td>8.145400</td>\n",
       "      <td>4.247600</td>\n",
       "    </tr>\n",
       "    <tr>\n",
       "      <th>25%</th>\n",
       "      <td>279.000000</td>\n",
       "      <td>24.475000</td>\n",
       "      <td>26.875000</td>\n",
       "      <td>29.675000</td>\n",
       "      <td>8.479800</td>\n",
       "      <td>4.356775</td>\n",
       "    </tr>\n",
       "    <tr>\n",
       "      <th>50%</th>\n",
       "      <td>423.000000</td>\n",
       "      <td>27.050000</td>\n",
       "      <td>29.500000</td>\n",
       "      <td>32.400000</td>\n",
       "      <td>9.761000</td>\n",
       "      <td>5.603300</td>\n",
       "    </tr>\n",
       "    <tr>\n",
       "      <th>75%</th>\n",
       "      <td>735.000000</td>\n",
       "      <td>32.400000</td>\n",
       "      <td>35.050000</td>\n",
       "      <td>38.200000</td>\n",
       "      <td>11.506900</td>\n",
       "      <td>6.552750</td>\n",
       "    </tr>\n",
       "    <tr>\n",
       "      <th>max</th>\n",
       "      <td>1000.000000</td>\n",
       "      <td>37.300000</td>\n",
       "      <td>40.000000</td>\n",
       "      <td>43.500000</td>\n",
       "      <td>12.354000</td>\n",
       "      <td>6.573600</td>\n",
       "    </tr>\n",
       "  </tbody>\n",
       "</table>\n",
       "</div>"
      ],
      "text/plain": [
       "            Weight    Length1    Length2    Length3     Height     Width\n",
       "count     6.000000   6.000000   6.000000   6.000000   6.000000  6.000000\n",
       "mean    531.000000  28.800000  31.316667  34.316667  10.027167  5.473050\n",
       "std     309.602972   5.580681   5.723781   6.023759   1.830201  1.194258\n",
       "min     270.000000  23.600000  26.000000  28.700000   8.145400  4.247600\n",
       "25%     279.000000  24.475000  26.875000  29.675000   8.479800  4.356775\n",
       "50%     423.000000  27.050000  29.500000  32.400000   9.761000  5.603300\n",
       "75%     735.000000  32.400000  35.050000  38.200000  11.506900  6.552750\n",
       "max    1000.000000  37.300000  40.000000  43.500000  12.354000  6.573600"
      ]
     },
     "execution_count": 24,
     "metadata": {},
     "output_type": "execute_result"
    }
   ],
   "source": [
    "df_whitefish.describe()"
   ]
  },
  {
   "cell_type": "markdown",
   "id": "2423da43",
   "metadata": {
    "papermill": {
     "duration": 0.076513,
     "end_time": "2021-09-23T15:25:40.238480",
     "exception": false,
     "start_time": "2021-09-23T15:25:40.161967",
     "status": "completed"
    },
    "tags": []
   },
   "source": [
    "## Whitefish Graph\n",
    "- Histogram\n",
    "- Boxplot\n",
    "- 2D Denstiy\n",
    "- Map Locations"
   ]
  },
  {
   "cell_type": "code",
   "execution_count": 25,
   "id": "1f6ba21e",
   "metadata": {
    "papermill": {
     "duration": 0.374132,
     "end_time": "2021-09-23T15:25:40.689130",
     "exception": false,
     "start_time": "2021-09-23T15:25:40.314998",
     "status": "completed"
    },
    "tags": []
   },
   "outputs": [
    {
     "data": {
      "text/plain": [
       "Text(0.5, 1.0, 'Whitefish Histogram')"
      ]
     },
     "execution_count": 25,
     "metadata": {},
     "output_type": "execute_result"
    },
    {
     "data": {
      "image/png": "[encoded data removed]",
      "text/plain": [
       "<Figure size 432x288 with 1 Axes>"
      ]
     },
     "metadata": {},
     "output_type": "display_data"
    }
   ],
   "source": [
    "sns.histplot(data=df_whitefish, x=\"Weight\", kde = True)\n",
    "plt.title(\"Whitefish Histogram\")"
   ]
  },
  {
   "cell_type": "code",
   "execution_count": 26,
   "id": "b22cd451",
   "metadata": {
    "papermill": {
     "duration": 0.477174,
     "end_time": "2021-09-23T15:25:41.241283",
     "exception": false,
     "start_time": "2021-09-23T15:25:40.764109",
     "status": "completed"
    },
    "tags": []
   },
   "outputs": [
    {
     "data": {
      "text/plain": [
       "<AxesSubplot:>"
      ]
     },
     "execution_count": 26,
     "metadata": {},
     "output_type": "execute_result"
    },
    {
     "data": {
      "image/png": "[encoded data removed]",
      "text/plain": [
       "<Figure size 1080x864 with 1 Axes>"
      ]
     },
     "metadata": {},
     "output_type": "display_data"
    }
   ],
   "source": [
    "\n",
    "plt.figure(figsize=(15, 12))\n",
    "sns.boxplot(data=df_whitefish.loc[:, [\"Length1\",\"Length2\",\"Length3\", \"Height\",\"Width\"]])"
   ]
  },
  {
   "cell_type": "code",
   "execution_count": 27,
   "id": "8c432be6",
   "metadata": {
    "papermill": {
     "duration": 0.42166,
     "end_time": "2021-09-23T15:25:41.791316",
     "exception": false,
     "start_time": "2021-09-23T15:25:41.369656",
     "status": "completed"
    },
    "tags": []
   },
   "outputs": [
    {
     "data": {
      "text/plain": [
       "<AxesSubplot:xlabel='Weight', ylabel='Length1'>"
      ]
     },
     "execution_count": 27,
     "metadata": {},
     "output_type": "execute_result"
    },
    {
     "data": {
      "image/png": "[encoded data removed]",
      "text/plain": [
       "<Figure size 1080x864 with 1 Axes>"
      ]
     },
     "metadata": {},
     "output_type": "display_data"
    }
   ],
   "source": [
    "plt.figure(figsize=(15, 12))\n",
    "sns.kdeplot(x = df_whitefish[\"Weight\"], y = df_whitefish[\"Length1\"], cmap = \"Reds\", shade = True, bw_adjust = .5)"
   ]
  },
  {
   "cell_type": "code",
   "execution_count": 28,
   "id": "640a8e67",
   "metadata": {
    "papermill": {
     "duration": 0.11924,
     "end_time": "2021-09-23T15:25:41.993155",
     "exception": false,
     "start_time": "2021-09-23T15:25:41.873915",
     "status": "completed"
    },
    "tags": []
   },
   "outputs": [
    {
     "data": {
      "text/html": [
       "<div style=\"width:100%;\"><div style=\"position:relative;width:100%;height:0;padding-bottom:60%;\"><span style=\"color:#565656\">Make this Notebook Trusted to load map: File -> Trust Notebook</span><iframe src=\"about:blank\" style=\"position:absolute;width:100%;height:100%;left:0;top:0;border:none !important;\" data-html=%3C%21DOCTYPE%20html%3E%0A%3Chead%3E%20%20%20%20%0A%20%20%20%20%3Cmeta%20http-equiv%3D%22content-type%22%20content%3D%22text/html%3B%20charset%3DUTF-8%22%20/%3E%0A%20%20%20%20%0A%20%20%20%20%20%20%20%20%3Cscript%3E%0A%20%20%20%20%20%20%20%20%20%20%20%20L_NO_TOUCH%20%3D%20false%3B%0A%20%20%20%20%20%20%20%20%20%20%20%20L_DISABLE_3D%20%3D%20false%3B%0A%20%20%20%20%20%20%20%20%3C/script%3E%0A%20%20%20%20%0A%20%20%20%20%3Cstyle%3Ehtml%2C%20body%20%7Bwidth%3A%20100%25%3Bheight%3A%20100%25%3Bmargin%3A%200%3Bpadding%3A%200%3B%7D%3C/style%3E%0A%20%20%20%20%3Cstyle%3E%23map%20%7Bposition%3Aabsolute%3Btop%3A0%3Bbottom%3A0%3Bright%3A0%3Bleft%3A0%3B%7D%3C/style%3E%0A%20%20%20%20%3Cscript%20src%3D%22https%3A//cdn.jsdelivr.net/npm/leaflet%401.6.0/dist/leaflet.js%22%3E%3C/script%3E%0A%20%20%20%20%3Cscript%20src%3D%22https%3A//code.jquery.com/jquery-1.12.4.min.js%22%3E%3C/script%3E%0A%20%20%20%20%3Cscript%20src%3D%22https%3A//maxcdn.bootstrapcdn.com/bootstrap/3.2.0/js/bootstrap.min.js%22%3E%3C/script%3E%0A%20%20%20%20%3Cscript%20src%3D%22https%3A//cdnjs.cloudflare.com/ajax/libs/Leaflet.awesome-markers/2.0.2/leaflet.awesome-markers.js%22%3E%3C/script%3E%0A%20%20%20%20%3Clink%20rel%3D%22stylesheet%22%20href%3D%22https%3A//cdn.jsdelivr.net/npm/leaflet%401.6.0/dist/leaflet.css%22/%3E%0A%20%20%20%20%3Clink%20rel%3D%22stylesheet%22%20href%3D%22https%3A//maxcdn.bootstrapcdn.com/bootstrap/3.2.0/css/bootstrap.min.css%22/%3E%0A%20%20%20%20%3Clink%20rel%3D%22stylesheet%22%20href%3D%22https%3A//maxcdn.bootstrapcdn.com/bootstrap/3.2.0/css/bootstrap-theme.min.css%22/%3E%0A%20%20%20%20%3Clink%20rel%3D%22stylesheet%22%20href%3D%22https%3A//maxcdn.bootstrapcdn.com/font-awesome/4.6.3/css/font-awesome.min.css%22/%3E%0A%20%20%20%20%3Clink%20rel%3D%22stylesheet%22%20href%3D%22https%3A//cdnjs.cloudflare.com/ajax/libs/Leaflet.awesome-markers/2.0.2/leaflet.awesome-markers.css%22/%3E%0A%20%20%20%20%3Clink%20rel%3D%22stylesheet%22%20href%3D%22https%3A//cdn.jsdelivr.net/gh/python-visualization/folium/folium/templates/leaflet.awesome.rotate.min.css%22/%3E%0A%20%20%20%20%0A%20%20%20%20%20%20%20%20%20%20%20%20%3Cmeta%20name%3D%22viewport%22%20content%3D%22width%3Ddevice-width%2C%0A%20%20%20%20%20%20%20%20%20%20%20%20%20%20%20%20initial-scale%3D1.0%2C%20maximum-scale%3D1.0%2C%20user-scalable%3Dno%22%20/%3E%0A%20%20%20%20%20%20%20%20%20%20%20%20%3Cstyle%3E%0A%20%20%20%20%20%20%20%20%20%20%20%20%20%20%20%20%23map_b16c949168644b82bd6156ca690e7241%20%7B%0A%20%20%20%20%20%20%20%20%20%20%20%20%20%20%20%20%20%20%20%20position%3A%20relative%3B%0A%20%20%20%20%20%20%20%20%20%20%20%20%20%20%20%20%20%20%20%20width%3A%20100.0%25%3B%0A%20%20%20%20%20%20%20%20%20%20%20%20%20%20%20%20%20%20%20%20height%3A%20100.0%25%3B%0A%20%20%20%20%20%20%20%20%20%20%20%20%20%20%20%20%20%20%20%20left%3A%200.0%25%3B%0A%20%20%20%20%20%20%20%20%20%20%20%20%20%20%20%20%20%20%20%20top%3A%200.0%25%3B%0A%20%20%20%20%20%20%20%20%20%20%20%20%20%20%20%20%7D%0A%20%20%20%20%20%20%20%20%20%20%20%20%3C/style%3E%0A%20%20%20%20%20%20%20%20%0A%3C/head%3E%0A%3Cbody%3E%20%20%20%20%0A%20%20%20%20%0A%20%20%20%20%20%20%20%20%20%20%20%20%3Cdiv%20class%3D%22folium-map%22%20id%3D%22map_b16c949168644b82bd6156ca690e7241%22%20%3E%3C/div%3E%0A%20%20%20%20%20%20%20%20%0A%3C/body%3E%0A%3Cscript%3E%20%20%20%20%0A%20%20%20%20%0A%20%20%20%20%20%20%20%20%20%20%20%20var%20map_b16c949168644b82bd6156ca690e7241%20%3D%20L.map%28%0A%20%20%20%20%20%20%20%20%20%20%20%20%20%20%20%20%22map_b16c949168644b82bd6156ca690e7241%22%2C%0A%20%20%20%20%20%20%20%20%20%20%20%20%20%20%20%20%7B%0A%20%20%20%20%20%20%20%20%20%20%20%20%20%20%20%20%20%20%20%20center%3A%20%5B47.78982091620774%2C%20-87.0514650320837%5D%2C%0A%20%20%20%20%20%20%20%20%20%20%20%20%20%20%20%20%20%20%20%20crs%3A%20L.CRS.EPSG3857%2C%0A%20%20%20%20%20%20%20%20%20%20%20%20%20%20%20%20%20%20%20%20zoom%3A%208%2C%0A%20%20%20%20%20%20%20%20%20%20%20%20%20%20%20%20%20%20%20%20zoomControl%3A%20true%2C%0A%20%20%20%20%20%20%20%20%20%20%20%20%20%20%20%20%20%20%20%20preferCanvas%3A%20false%2C%0A%20%20%20%20%20%20%20%20%20%20%20%20%20%20%20%20%7D%0A%20%20%20%20%20%20%20%20%20%20%20%20%29%3B%0A%0A%20%20%20%20%20%20%20%20%20%20%20%20%0A%0A%20%20%20%20%20%20%20%20%0A%20%20%20%20%0A%20%20%20%20%20%20%20%20%20%20%20%20var%20tile_layer_7a7e71a107bf4401a0cd281d62393385%20%3D%20L.tileLayer%28%0A%20%20%20%20%20%20%20%20%20%20%20%20%20%20%20%20%22https%3A//%7Bs%7D.tile.openstreetmap.org/%7Bz%7D/%7Bx%7D/%7By%7D.png%22%2C%0A%20%20%20%20%20%20%20%20%20%20%20%20%20%20%20%20%7B%22attribution%22%3A%20%22Data%20by%20%5Cu0026copy%3B%20%5Cu003ca%20href%3D%5C%22http%3A//openstreetmap.org%5C%22%5Cu003eOpenStreetMap%5Cu003c/a%5Cu003e%2C%20under%20%5Cu003ca%20href%3D%5C%22http%3A//www.openstreetmap.org/copyright%5C%22%5Cu003eODbL%5Cu003c/a%5Cu003e.%22%2C%20%22detectRetina%22%3A%20false%2C%20%22maxNativeZoom%22%3A%2018%2C%20%22maxZoom%22%3A%2018%2C%20%22minZoom%22%3A%200%2C%20%22noWrap%22%3A%20false%2C%20%22opacity%22%3A%201%2C%20%22subdomains%22%3A%20%22abc%22%2C%20%22tms%22%3A%20false%7D%0A%20%20%20%20%20%20%20%20%20%20%20%20%29.addTo%28map_b16c949168644b82bd6156ca690e7241%29%3B%0A%20%20%20%20%20%20%20%20%0A%3C/script%3E onload=\"this.contentDocument.open();this.contentDocument.write(    decodeURIComponent(this.getAttribute('data-html')));this.contentDocument.close();\" allowfullscreen webkitallowfullscreen mozallowfullscreen></iframe></div></div>"
      ],
      "text/plain": [
       "<folium.folium.Map at 0x19d95c387c0>"
      ]
     },
     "execution_count": 28,
     "metadata": {},
     "output_type": "execute_result"
    },
    {
     "data": {
      "text/plain": [
       "<Figure size 1080x720 with 0 Axes>"
      ]
     },
     "metadata": {},
     "output_type": "display_data"
    }
   ],
   "source": [
    "plt.figure(figsize=(15, 10))\n",
    "\n",
    "map = folium.Map(location=[47.78982091620774, -87.0514650320837], zoom_start= 8)\n",
    "map"
   ]
  },
  {
   "cell_type": "code",
   "execution_count": 29,
   "id": "8c2f1e9d",
   "metadata": {
    "papermill": {
     "duration": 0.086876,
     "end_time": "2021-09-23T15:25:42.162083",
     "exception": false,
     "start_time": "2021-09-23T15:25:42.075207",
     "status": "completed"
    },
    "tags": []
   },
   "outputs": [
    {
     "data": {
      "text/plain": [
       "array(['Bream', 'Roach', 'Whitefish', 'Parkki', 'Perch', 'Pike', 'Smelt'],\n",
       "      dtype=object)"
      ]
     },
     "execution_count": 29,
     "metadata": {},
     "output_type": "execute_result"
    }
   ],
   "source": [
    "df[\"Species\"].unique()"
   ]
  },
  {
   "cell_type": "markdown",
   "id": "4f49caf6",
   "metadata": {
    "papermill": {
     "duration": 0.075043,
     "end_time": "2021-09-23T15:25:42.311877",
     "exception": false,
     "start_time": "2021-09-23T15:25:42.236834",
     "status": "completed"
    },
    "tags": []
   },
   "source": [
    "# Roach"
   ]
  },
  {
   "cell_type": "markdown",
   "id": "20305b20",
   "metadata": {
    "papermill": {
     "duration": 0.078291,
     "end_time": "2021-09-23T15:25:42.470705",
     "exception": false,
     "start_time": "2021-09-23T15:25:42.392414",
     "status": "completed"
    },
    "tags": []
   },
   "source": [
    "![](https://d247nfungkrxrr.cloudfront.net/2014/02/25/roach-uros-kristan-s-fly-fishing-photo-of-a-roach-fly-dreamers-FDID749w10000h1mimg_530cf226126be.jpg)"
   ]
  },
  {
   "cell_type": "markdown",
   "id": "f205e871",
   "metadata": {
    "papermill": {
     "duration": 0.077001,
     "end_time": "2021-09-23T15:25:42.626489",
     "exception": false,
     "start_time": "2021-09-23T15:25:42.549488",
     "status": "completed"
    },
    "tags": []
   },
   "source": [
    "The roach is a small fish, often reaching no more than about 35 centimetres (14 in); maximum length is 50 cm (20 in). Its body has a bluish-silvery colour and becomes white at the belly. The fins are red. The number of scales along the lateral line is 39–48. The dorsal and anal fins have 12–14 rays. Young specimens have a slender build; older specimens acquire a higher and broader body shape. The roach can often be recognized by the big red spot in the iris above and beside the pupil. Colours of the eye and fins can be very pale, however, in some environments.\n",
    "\n",
    "In Central and Northern Europe, the common roach can most easily be confused with the common rudd (Scardinius erythropthalmus), the dace (Leuciscus leuciscus), or the ide (Leuciscus idus). They can be distinguished by these characteristics:\n",
    "\n",
    "The common rudd has a more yellow/greenish or golden colour. The backfin is placed more backwards and between the tip of the ventral scales and the first ray of the anal fin are only one or two scales. The roach has four or five scales there. The mouth of the rudd is more upturned and the head appears sharper.\n",
    "The dace has a greenish body, colorless eyes and fins, and a distinct 'nose'.\n",
    "The ide has a higher number of scales along its lateral line (55–61), a rounder body, and a bigger mouth and head."
   ]
  },
  {
   "cell_type": "code",
   "execution_count": 30,
   "id": "4f7bb36b",
   "metadata": {
    "papermill": {
     "duration": 0.088442,
     "end_time": "2021-09-23T15:25:42.793577",
     "exception": false,
     "start_time": "2021-09-23T15:25:42.705135",
     "status": "completed"
    },
    "tags": []
   },
   "outputs": [],
   "source": [
    "df_roach = df[df[\"Species\"] == \"Roach\"]"
   ]
  },
  {
   "cell_type": "code",
   "execution_count": 31,
   "id": "4bdeb48b",
   "metadata": {
    "papermill": {
     "duration": 0.107296,
     "end_time": "2021-09-23T15:25:42.979586",
     "exception": false,
     "start_time": "2021-09-23T15:25:42.872290",
     "status": "completed"
    },
    "tags": []
   },
   "outputs": [
    {
     "data": {
      "text/html": [
       "<div>\n",
       "<style scoped>\n",
       "    .dataframe tbody tr th:only-of-type {\n",
       "        vertical-align: middle;\n",
       "    }\n",
       "\n",
       "    .dataframe tbody tr th {\n",
       "        vertical-align: top;\n",
       "    }\n",
       "\n",
       "    .dataframe thead th {\n",
       "        text-align: right;\n",
       "    }\n",
       "</style>\n",
       "<table border=\"1\" class=\"dataframe\">\n",
       "  <thead>\n",
       "    <tr style=\"text-align: right;\">\n",
       "      <th></th>\n",
       "      <th>Weight</th>\n",
       "      <th>Length1</th>\n",
       "      <th>Length2</th>\n",
       "      <th>Length3</th>\n",
       "      <th>Height</th>\n",
       "      <th>Width</th>\n",
       "    </tr>\n",
       "  </thead>\n",
       "  <tbody>\n",
       "    <tr>\n",
       "      <th>count</th>\n",
       "      <td>20.000000</td>\n",
       "      <td>20.000000</td>\n",
       "      <td>20.000000</td>\n",
       "      <td>20.000000</td>\n",
       "      <td>20.000000</td>\n",
       "      <td>20.000000</td>\n",
       "    </tr>\n",
       "    <tr>\n",
       "      <th>mean</th>\n",
       "      <td>152.050000</td>\n",
       "      <td>20.645000</td>\n",
       "      <td>22.275000</td>\n",
       "      <td>24.970000</td>\n",
       "      <td>6.694795</td>\n",
       "      <td>3.657850</td>\n",
       "    </tr>\n",
       "    <tr>\n",
       "      <th>std</th>\n",
       "      <td>88.828916</td>\n",
       "      <td>3.459917</td>\n",
       "      <td>3.651946</td>\n",
       "      <td>4.031599</td>\n",
       "      <td>1.261192</td>\n",
       "      <td>0.690371</td>\n",
       "    </tr>\n",
       "    <tr>\n",
       "      <th>min</th>\n",
       "      <td>0.000000</td>\n",
       "      <td>12.900000</td>\n",
       "      <td>14.100000</td>\n",
       "      <td>16.200000</td>\n",
       "      <td>4.147200</td>\n",
       "      <td>2.268000</td>\n",
       "    </tr>\n",
       "    <tr>\n",
       "      <th>25%</th>\n",
       "      <td>104.250000</td>\n",
       "      <td>18.900000</td>\n",
       "      <td>20.375000</td>\n",
       "      <td>22.650000</td>\n",
       "      <td>6.037075</td>\n",
       "      <td>3.317325</td>\n",
       "    </tr>\n",
       "    <tr>\n",
       "      <th>50%</th>\n",
       "      <td>147.500000</td>\n",
       "      <td>20.500000</td>\n",
       "      <td>22.250000</td>\n",
       "      <td>24.850000</td>\n",
       "      <td>6.512600</td>\n",
       "      <td>3.602700</td>\n",
       "    </tr>\n",
       "    <tr>\n",
       "      <th>75%</th>\n",
       "      <td>171.750000</td>\n",
       "      <td>22.025000</td>\n",
       "      <td>23.625000</td>\n",
       "      <td>26.900000</td>\n",
       "      <td>7.164150</td>\n",
       "      <td>3.852900</td>\n",
       "    </tr>\n",
       "    <tr>\n",
       "      <th>max</th>\n",
       "      <td>390.000000</td>\n",
       "      <td>29.500000</td>\n",
       "      <td>31.700000</td>\n",
       "      <td>35.000000</td>\n",
       "      <td>9.485000</td>\n",
       "      <td>5.355000</td>\n",
       "    </tr>\n",
       "  </tbody>\n",
       "</table>\n",
       "</div>"
      ],
      "text/plain": [
       "           Weight    Length1    Length2    Length3     Height      Width\n",
       "count   20.000000  20.000000  20.000000  20.000000  20.000000  20.000000\n",
       "mean   152.050000  20.645000  22.275000  24.970000   6.694795   3.657850\n",
       "std     88.828916   3.459917   3.651946   4.031599   1.261192   0.690371\n",
       "min      0.000000  12.900000  14.100000  16.200000   4.147200   2.268000\n",
       "25%    104.250000  18.900000  20.375000  22.650000   6.037075   3.317325\n",
       "50%    147.500000  20.500000  22.250000  24.850000   6.512600   3.602700\n",
       "75%    171.750000  22.025000  23.625000  26.900000   7.164150   3.852900\n",
       "max    390.000000  29.500000  31.700000  35.000000   9.485000   5.355000"
      ]
     },
     "execution_count": 31,
     "metadata": {},
     "output_type": "execute_result"
    }
   ],
   "source": [
    "df_roach.describe()"
   ]
  },
  {
   "cell_type": "markdown",
   "id": "f0a64a55",
   "metadata": {
    "papermill": {
     "duration": 0.079627,
     "end_time": "2021-09-23T15:25:43.139023",
     "exception": false,
     "start_time": "2021-09-23T15:25:43.059396",
     "status": "completed"
    },
    "tags": []
   },
   "source": [
    "![](https://mk0dynamitebaitfu5f6.kinstacdn.com/wp-content/uploads/2019/04/This-massive-fish-of-2lb-13oz-fell-to-the-tactics-described-a-cage-feeder-and-a-small-boilie.jpg)"
   ]
  },
  {
   "cell_type": "markdown",
   "id": "e44ab0d5",
   "metadata": {
    "papermill": {
     "duration": 0.079302,
     "end_time": "2021-09-23T15:25:43.296069",
     "exception": false,
     "start_time": "2021-09-23T15:25:43.216767",
     "status": "completed"
    },
    "tags": []
   },
   "source": [
    "## Roach Graph\n",
    "- Histogram\n",
    "- Boxplot\n",
    "- 2D Denstiy\n",
    "- Map Locations"
   ]
  },
  {
   "cell_type": "code",
   "execution_count": 32,
   "id": "f2b02916",
   "metadata": {
    "papermill": {
     "duration": 0.332841,
     "end_time": "2021-09-23T15:25:43.708194",
     "exception": false,
     "start_time": "2021-09-23T15:25:43.375353",
     "status": "completed"
    },
    "tags": []
   },
   "outputs": [
    {
     "data": {
      "text/plain": [
       "Text(0.5, 1.0, 'Roach Histogram')"
      ]
     },
     "execution_count": 32,
     "metadata": {},
     "output_type": "execute_result"
    },
    {
     "data": {
      "image/png": "[encoded data removed]",
      "text/plain": [
       "<Figure size 432x288 with 1 Axes>"
      ]
     },
     "metadata": {},
     "output_type": "display_data"
    }
   ],
   "source": [
    "sns.histplot(data=df_roach, x=\"Weight\", kde = True)\n",
    "plt.title(\"Roach Histogram\")"
   ]
  },
  {
   "cell_type": "code",
   "execution_count": 33,
   "id": "1ffe236d",
   "metadata": {
    "papermill": {
     "duration": 0.33405,
     "end_time": "2021-09-23T15:25:44.121645",
     "exception": false,
     "start_time": "2021-09-23T15:25:43.787595",
     "status": "completed"
    },
    "tags": []
   },
   "outputs": [
    {
     "data": {
      "text/plain": [
       "<AxesSubplot:>"
      ]
     },
     "execution_count": 33,
     "metadata": {},
     "output_type": "execute_result"
    },
    {
     "data": {
      "image/png": "[encoded data removed]",
      "text/plain": [
       "<Figure size 1080x864 with 1 Axes>"
      ]
     },
     "metadata": {},
     "output_type": "display_data"
    }
   ],
   "source": [
    "plt.figure(figsize=(15, 12))\n",
    "sns.boxplot(data=df_roach.loc[:, [\"Length1\",\"Length2\",\"Length3\", \"Height\",\"Width\"]])"
   ]
  },
  {
   "cell_type": "code",
   "execution_count": 34,
   "id": "7fc67bb3",
   "metadata": {
    "papermill": {
     "duration": 0.317143,
     "end_time": "2021-09-23T15:25:44.518278",
     "exception": false,
     "start_time": "2021-09-23T15:25:44.201135",
     "status": "completed"
    },
    "tags": []
   },
   "outputs": [
    {
     "data": {
      "text/plain": [
       "<AxesSubplot:xlabel='Weight', ylabel='Length1'>"
      ]
     },
     "execution_count": 34,
     "metadata": {},
     "output_type": "execute_result"
    },
    {
     "data": {
      "image/png": "[encoded data removed]",
      "text/plain": [
       "<Figure size 1080x864 with 1 Axes>"
      ]
     },
     "metadata": {},
     "output_type": "display_data"
    }
   ],
   "source": [
    "plt.figure(figsize=(15, 12))\n",
    "sns.kdeplot(x = df_roach[\"Weight\"], y = df_roach[\"Length1\"], cmap = \"Reds\", shade = True, bw_adjust = .5)"
   ]
  },
  {
   "cell_type": "markdown",
   "id": "94170400",
   "metadata": {
    "papermill": {
     "duration": 0.083092,
     "end_time": "2021-09-23T15:25:44.683124",
     "exception": false,
     "start_time": "2021-09-23T15:25:44.600032",
     "status": "completed"
    },
    "tags": []
   },
   "source": [
    "# Bream"
   ]
  },
  {
   "cell_type": "markdown",
   "id": "46e75c18",
   "metadata": {
    "papermill": {
     "duration": 0.082799,
     "end_time": "2021-09-23T15:25:44.848697",
     "exception": false,
     "start_time": "2021-09-23T15:25:44.765898",
     "status": "completed"
    },
    "tags": []
   },
   "source": [
    "![](http://tackletactics.com.au/assets/full_6796_5tipsforsouthernblackbream-Slide.jpg)"
   ]
  },
  {
   "cell_type": "markdown",
   "id": "3478d804",
   "metadata": {
    "papermill": {
     "duration": 0.083492,
     "end_time": "2021-09-23T15:25:45.016753",
     "exception": false,
     "start_time": "2021-09-23T15:25:44.933261",
     "status": "completed"
    },
    "tags": []
   },
   "source": [
    "The bream is usually 30 to 55 cm (12 to 22 in) long, though some specimens of 75 cm (30 in) have been recorded; it usually weighs 2 to 4 kg (4.4 to 8.8 lb). Its maximum length is 90 cm (35.5 in),the recorded weight is around 9.1 kg (20 lb).\n",
    "\n",
    "The common bream has a laterally flattened and high-backed body and a slightly undershot mouth. It is a silvery grey colour, though older fish can be bronze-coloured, especially in clear waters. The fins are greyish to black, but never reddish.\n",
    "\n",
    "The common bream generally lives in rivers (especially in the lower reaches) and in nutrient-rich lakes and ponds with muddy bottoms and plenty of algae. It can also be found in brackish sea waters.[1]"
   ]
  },
  {
   "cell_type": "code",
   "execution_count": 35,
   "id": "a6d9c587",
   "metadata": {
    "papermill": {
     "duration": 0.088339,
     "end_time": "2021-09-23T15:25:45.189167",
     "exception": false,
     "start_time": "2021-09-23T15:25:45.100828",
     "status": "completed"
    },
    "tags": []
   },
   "outputs": [],
   "source": [
    "df_bream = df[df[\"Species\"] == \"Bream\"]"
   ]
  },
  {
   "cell_type": "code",
   "execution_count": 36,
   "id": "e568d1fa",
   "metadata": {
    "papermill": {
     "duration": 0.100466,
     "end_time": "2021-09-23T15:25:45.370390",
     "exception": false,
     "start_time": "2021-09-23T15:25:45.269924",
     "status": "completed"
    },
    "tags": []
   },
   "outputs": [
    {
     "data": {
      "text/html": [
       "<div>\n",
       "<style scoped>\n",
       "    .dataframe tbody tr th:only-of-type {\n",
       "        vertical-align: middle;\n",
       "    }\n",
       "\n",
       "    .dataframe tbody tr th {\n",
       "        vertical-align: top;\n",
       "    }\n",
       "\n",
       "    .dataframe thead th {\n",
       "        text-align: right;\n",
       "    }\n",
       "</style>\n",
       "<table border=\"1\" class=\"dataframe\">\n",
       "  <thead>\n",
       "    <tr style=\"text-align: right;\">\n",
       "      <th></th>\n",
       "      <th>Weight</th>\n",
       "      <th>Length1</th>\n",
       "      <th>Length2</th>\n",
       "      <th>Length3</th>\n",
       "      <th>Height</th>\n",
       "      <th>Width</th>\n",
       "    </tr>\n",
       "  </thead>\n",
       "  <tbody>\n",
       "    <tr>\n",
       "      <th>count</th>\n",
       "      <td>35.000000</td>\n",
       "      <td>35.000000</td>\n",
       "      <td>35.000000</td>\n",
       "      <td>35.000000</td>\n",
       "      <td>35.000000</td>\n",
       "      <td>35.000000</td>\n",
       "    </tr>\n",
       "    <tr>\n",
       "      <th>mean</th>\n",
       "      <td>617.828571</td>\n",
       "      <td>30.305714</td>\n",
       "      <td>33.108571</td>\n",
       "      <td>38.354286</td>\n",
       "      <td>15.183211</td>\n",
       "      <td>5.427614</td>\n",
       "    </tr>\n",
       "    <tr>\n",
       "      <th>std</th>\n",
       "      <td>209.205709</td>\n",
       "      <td>3.593699</td>\n",
       "      <td>3.911925</td>\n",
       "      <td>4.157866</td>\n",
       "      <td>1.964707</td>\n",
       "      <td>0.721509</td>\n",
       "    </tr>\n",
       "    <tr>\n",
       "      <th>min</th>\n",
       "      <td>242.000000</td>\n",
       "      <td>23.200000</td>\n",
       "      <td>25.400000</td>\n",
       "      <td>30.000000</td>\n",
       "      <td>11.520000</td>\n",
       "      <td>4.020000</td>\n",
       "    </tr>\n",
       "    <tr>\n",
       "      <th>25%</th>\n",
       "      <td>462.500000</td>\n",
       "      <td>28.000000</td>\n",
       "      <td>30.350000</td>\n",
       "      <td>35.650000</td>\n",
       "      <td>13.958900</td>\n",
       "      <td>4.943400</td>\n",
       "    </tr>\n",
       "    <tr>\n",
       "      <th>50%</th>\n",
       "      <td>610.000000</td>\n",
       "      <td>30.400000</td>\n",
       "      <td>33.000000</td>\n",
       "      <td>38.500000</td>\n",
       "      <td>14.954400</td>\n",
       "      <td>5.280100</td>\n",
       "    </tr>\n",
       "    <tr>\n",
       "      <th>75%</th>\n",
       "      <td>717.000000</td>\n",
       "      <td>31.950000</td>\n",
       "      <td>35.000000</td>\n",
       "      <td>40.750000</td>\n",
       "      <td>16.360900</td>\n",
       "      <td>6.071600</td>\n",
       "    </tr>\n",
       "    <tr>\n",
       "      <th>max</th>\n",
       "      <td>1000.000000</td>\n",
       "      <td>38.000000</td>\n",
       "      <td>41.000000</td>\n",
       "      <td>46.500000</td>\n",
       "      <td>18.957000</td>\n",
       "      <td>6.749700</td>\n",
       "    </tr>\n",
       "  </tbody>\n",
       "</table>\n",
       "</div>"
      ],
      "text/plain": [
       "            Weight    Length1    Length2    Length3     Height      Width\n",
       "count    35.000000  35.000000  35.000000  35.000000  35.000000  35.000000\n",
       "mean    617.828571  30.305714  33.108571  38.354286  15.183211   5.427614\n",
       "std     209.205709   3.593699   3.911925   4.157866   1.964707   0.721509\n",
       "min     242.000000  23.200000  25.400000  30.000000  11.520000   4.020000\n",
       "25%     462.500000  28.000000  30.350000  35.650000  13.958900   4.943400\n",
       "50%     610.000000  30.400000  33.000000  38.500000  14.954400   5.280100\n",
       "75%     717.000000  31.950000  35.000000  40.750000  16.360900   6.071600\n",
       "max    1000.000000  38.000000  41.000000  46.500000  18.957000   6.749700"
      ]
     },
     "execution_count": 36,
     "metadata": {},
     "output_type": "execute_result"
    }
   ],
   "source": [
    "df_bream.describe()"
   ]
  },
  {
   "cell_type": "markdown",
   "id": "3dce9692",
   "metadata": {
    "papermill": {
     "duration": 0.084039,
     "end_time": "2021-09-23T15:25:45.535851",
     "exception": false,
     "start_time": "2021-09-23T15:25:45.451812",
     "status": "completed"
    },
    "tags": []
   },
   "source": [
    "![](http://tackletactics.com.au/assets/full_6800_982011602635767581048761294958078835294208n.jpg)"
   ]
  },
  {
   "cell_type": "markdown",
   "id": "84ec99ce",
   "metadata": {
    "papermill": {
     "duration": 0.083516,
     "end_time": "2021-09-23T15:25:45.703952",
     "exception": false,
     "start_time": "2021-09-23T15:25:45.620436",
     "status": "completed"
    },
    "tags": []
   },
   "source": [
    "## Bream Graph\n",
    "- Histogram\n",
    "- Boxplot\n",
    "- 2D Denstiy\n",
    "- Map Locations"
   ]
  },
  {
   "cell_type": "code",
   "execution_count": 37,
   "id": "f61f4959",
   "metadata": {
    "papermill": {
     "duration": 0.328051,
     "end_time": "2021-09-23T15:25:46.116124",
     "exception": false,
     "start_time": "2021-09-23T15:25:45.788073",
     "status": "completed"
    },
    "tags": []
   },
   "outputs": [
    {
     "data": {
      "text/plain": [
       "Text(0.5, 1.0, 'Bream Histogram')"
      ]
     },
     "execution_count": 37,
     "metadata": {},
     "output_type": "execute_result"
    },
    {
     "data": {
      "image/png": "[encoded data removed]",
      "text/plain": [
       "<Figure size 432x288 with 1 Axes>"
      ]
     },
     "metadata": {},
     "output_type": "display_data"
    }
   ],
   "source": [
    "sns.histplot(data=df_bream, x=\"Weight\", kde = True)\n",
    "plt.title(\"Bream Histogram\")\n"
   ]
  },
  {
   "cell_type": "code",
   "execution_count": 38,
   "id": "1e92fc99",
   "metadata": {
    "papermill": {
     "duration": 0.282483,
     "end_time": "2021-09-23T15:25:46.478245",
     "exception": false,
     "start_time": "2021-09-23T15:25:46.195762",
     "status": "completed"
    },
    "tags": []
   },
   "outputs": [
    {
     "data": {
      "text/plain": [
       "<AxesSubplot:>"
      ]
     },
     "execution_count": 38,
     "metadata": {},
     "output_type": "execute_result"
    },
    {
     "data": {
      "image/png": "[encoded data removed]",
      "text/plain": [
       "<Figure size 1080x864 with 1 Axes>"
      ]
     },
     "metadata": {},
     "output_type": "display_data"
    }
   ],
   "source": [
    "\n",
    "plt.figure(figsize=(15, 12))\n",
    "sns.boxplot(data=df_bream.loc[:, [\"Length1\",\"Length2\",\"Length3\", \"Height\",\"Width\"]])"
   ]
  },
  {
   "cell_type": "code",
   "execution_count": 39,
   "id": "f77b6dbe",
   "metadata": {
    "papermill": {
     "duration": 0.371448,
     "end_time": "2021-09-23T15:25:46.933097",
     "exception": false,
     "start_time": "2021-09-23T15:25:46.561649",
     "status": "completed"
    },
    "tags": []
   },
   "outputs": [
    {
     "data": {
      "text/plain": [
       "<AxesSubplot:xlabel='Weight', ylabel='Length1'>"
      ]
     },
     "execution_count": 39,
     "metadata": {},
     "output_type": "execute_result"
    },
    {
     "data": {
      "image/png": "[encoded data removed]",
      "text/plain": [
       "<Figure size 1080x864 with 1 Axes>"
      ]
     },
     "metadata": {},
     "output_type": "display_data"
    }
   ],
   "source": [
    "plt.figure(figsize=(15, 12))\n",
    "sns.kdeplot(x = df_bream[\"Weight\"], y = df_bream[\"Length1\"], cmap = \"Reds\", shade = True, bw_adjust = .4)"
   ]
  },
  {
   "cell_type": "code",
   "execution_count": 40,
   "id": "43b3e1b7",
   "metadata": {
    "papermill": {
     "duration": 0.105007,
     "end_time": "2021-09-23T15:25:47.125120",
     "exception": false,
     "start_time": "2021-09-23T15:25:47.020113",
     "status": "completed"
    },
    "tags": []
   },
   "outputs": [
    {
     "data": {
      "text/html": [
       "<div style=\"width:100%;\"><div style=\"position:relative;width:100%;height:0;padding-bottom:60%;\"><span style=\"color:#565656\">Make this Notebook Trusted to load map: File -> Trust Notebook</span><iframe src=\"about:blank\" style=\"position:absolute;width:100%;height:100%;left:0;top:0;border:none !important;\" data-html=%3C%21DOCTYPE%20html%3E%0A%3Chead%3E%20%20%20%20%0A%20%20%20%20%3Cmeta%20http-equiv%3D%22content-type%22%20content%3D%22text/html%3B%20charset%3DUTF-8%22%20/%3E%0A%20%20%20%20%0A%20%20%20%20%20%20%20%20%3Cscript%3E%0A%20%20%20%20%20%20%20%20%20%20%20%20L_NO_TOUCH%20%3D%20false%3B%0A%20%20%20%20%20%20%20%20%20%20%20%20L_DISABLE_3D%20%3D%20false%3B%0A%20%20%20%20%20%20%20%20%3C/script%3E%0A%20%20%20%20%0A%20%20%20%20%3Cstyle%3Ehtml%2C%20body%20%7Bwidth%3A%20100%25%3Bheight%3A%20100%25%3Bmargin%3A%200%3Bpadding%3A%200%3B%7D%3C/style%3E%0A%20%20%20%20%3Cstyle%3E%23map%20%7Bposition%3Aabsolute%3Btop%3A0%3Bbottom%3A0%3Bright%3A0%3Bleft%3A0%3B%7D%3C/style%3E%0A%20%20%20%20%3Cscript%20src%3D%22https%3A//cdn.jsdelivr.net/npm/leaflet%401.6.0/dist/leaflet.js%22%3E%3C/script%3E%0A%20%20%20%20%3Cscript%20src%3D%22https%3A//code.jquery.com/jquery-1.12.4.min.js%22%3E%3C/script%3E%0A%20%20%20%20%3Cscript%20src%3D%22https%3A//maxcdn.bootstrapcdn.com/bootstrap/3.2.0/js/bootstrap.min.js%22%3E%3C/script%3E%0A%20%20%20%20%3Cscript%20src%3D%22https%3A//cdnjs.cloudflare.com/ajax/libs/Leaflet.awesome-markers/2.0.2/leaflet.awesome-markers.js%22%3E%3C/script%3E%0A%20%20%20%20%3Clink%20rel%3D%22stylesheet%22%20href%3D%22https%3A//cdn.jsdelivr.net/npm/leaflet%401.6.0/dist/leaflet.css%22/%3E%0A%20%20%20%20%3Clink%20rel%3D%22stylesheet%22%20href%3D%22https%3A//maxcdn.bootstrapcdn.com/bootstrap/3.2.0/css/bootstrap.min.css%22/%3E%0A%20%20%20%20%3Clink%20rel%3D%22stylesheet%22%20href%3D%22https%3A//maxcdn.bootstrapcdn.com/bootstrap/3.2.0/css/bootstrap-theme.min.css%22/%3E%0A%20%20%20%20%3Clink%20rel%3D%22stylesheet%22%20href%3D%22https%3A//maxcdn.bootstrapcdn.com/font-awesome/4.6.3/css/font-awesome.min.css%22/%3E%0A%20%20%20%20%3Clink%20rel%3D%22stylesheet%22%20href%3D%22https%3A//cdnjs.cloudflare.com/ajax/libs/Leaflet.awesome-markers/2.0.2/leaflet.awesome-markers.css%22/%3E%0A%20%20%20%20%3Clink%20rel%3D%22stylesheet%22%20href%3D%22https%3A//cdn.jsdelivr.net/gh/python-visualization/folium/folium/templates/leaflet.awesome.rotate.min.css%22/%3E%0A%20%20%20%20%0A%20%20%20%20%20%20%20%20%20%20%20%20%3Cmeta%20name%3D%22viewport%22%20content%3D%22width%3Ddevice-width%2C%0A%20%20%20%20%20%20%20%20%20%20%20%20%20%20%20%20initial-scale%3D1.0%2C%20maximum-scale%3D1.0%2C%20user-scalable%3Dno%22%20/%3E%0A%20%20%20%20%20%20%20%20%20%20%20%20%3Cstyle%3E%0A%20%20%20%20%20%20%20%20%20%20%20%20%20%20%20%20%23map_b250b7a8e7894f778f033294ea43e359%20%7B%0A%20%20%20%20%20%20%20%20%20%20%20%20%20%20%20%20%20%20%20%20position%3A%20relative%3B%0A%20%20%20%20%20%20%20%20%20%20%20%20%20%20%20%20%20%20%20%20width%3A%20100.0%25%3B%0A%20%20%20%20%20%20%20%20%20%20%20%20%20%20%20%20%20%20%20%20height%3A%20100.0%25%3B%0A%20%20%20%20%20%20%20%20%20%20%20%20%20%20%20%20%20%20%20%20left%3A%200.0%25%3B%0A%20%20%20%20%20%20%20%20%20%20%20%20%20%20%20%20%20%20%20%20top%3A%200.0%25%3B%0A%20%20%20%20%20%20%20%20%20%20%20%20%20%20%20%20%7D%0A%20%20%20%20%20%20%20%20%20%20%20%20%3C/style%3E%0A%20%20%20%20%20%20%20%20%0A%3C/head%3E%0A%3Cbody%3E%20%20%20%20%0A%20%20%20%20%0A%20%20%20%20%20%20%20%20%20%20%20%20%3Cdiv%20class%3D%22folium-map%22%20id%3D%22map_b250b7a8e7894f778f033294ea43e359%22%20%3E%3C/div%3E%0A%20%20%20%20%20%20%20%20%0A%3C/body%3E%0A%3Cscript%3E%20%20%20%20%0A%20%20%20%20%0A%20%20%20%20%20%20%20%20%20%20%20%20var%20map_b250b7a8e7894f778f033294ea43e359%20%3D%20L.map%28%0A%20%20%20%20%20%20%20%20%20%20%20%20%20%20%20%20%22map_b250b7a8e7894f778f033294ea43e359%22%2C%0A%20%20%20%20%20%20%20%20%20%20%20%20%20%20%20%20%7B%0A%20%20%20%20%20%20%20%20%20%20%20%20%20%20%20%20%20%20%20%20center%3A%20%5B31.564784644599616%2C%20-89.8392593120893%5D%2C%0A%20%20%20%20%20%20%20%20%20%20%20%20%20%20%20%20%20%20%20%20crs%3A%20L.CRS.EPSG3857%2C%0A%20%20%20%20%20%20%20%20%20%20%20%20%20%20%20%20%20%20%20%20zoom%3A%2016%2C%0A%20%20%20%20%20%20%20%20%20%20%20%20%20%20%20%20%20%20%20%20zoomControl%3A%20true%2C%0A%20%20%20%20%20%20%20%20%20%20%20%20%20%20%20%20%20%20%20%20preferCanvas%3A%20false%2C%0A%20%20%20%20%20%20%20%20%20%20%20%20%20%20%20%20%7D%0A%20%20%20%20%20%20%20%20%20%20%20%20%29%3B%0A%0A%20%20%20%20%20%20%20%20%20%20%20%20%0A%0A%20%20%20%20%20%20%20%20%0A%20%20%20%20%0A%20%20%20%20%20%20%20%20%20%20%20%20var%20tile_layer_c8a12af6efc143f19b5a1539b71d105a%20%3D%20L.tileLayer%28%0A%20%20%20%20%20%20%20%20%20%20%20%20%20%20%20%20%22https%3A//%7Bs%7D.tile.openstreetmap.org/%7Bz%7D/%7Bx%7D/%7By%7D.png%22%2C%0A%20%20%20%20%20%20%20%20%20%20%20%20%20%20%20%20%7B%22attribution%22%3A%20%22Data%20by%20%5Cu0026copy%3B%20%5Cu003ca%20href%3D%5C%22http%3A//openstreetmap.org%5C%22%5Cu003eOpenStreetMap%5Cu003c/a%5Cu003e%2C%20under%20%5Cu003ca%20href%3D%5C%22http%3A//www.openstreetmap.org/copyright%5C%22%5Cu003eODbL%5Cu003c/a%5Cu003e.%22%2C%20%22detectRetina%22%3A%20false%2C%20%22maxNativeZoom%22%3A%2018%2C%20%22maxZoom%22%3A%2018%2C%20%22minZoom%22%3A%200%2C%20%22noWrap%22%3A%20false%2C%20%22opacity%22%3A%201%2C%20%22subdomains%22%3A%20%22abc%22%2C%20%22tms%22%3A%20false%7D%0A%20%20%20%20%20%20%20%20%20%20%20%20%29.addTo%28map_b250b7a8e7894f778f033294ea43e359%29%3B%0A%20%20%20%20%20%20%20%20%0A%3C/script%3E onload=\"this.contentDocument.open();this.contentDocument.write(    decodeURIComponent(this.getAttribute('data-html')));this.contentDocument.close();\" allowfullscreen webkitallowfullscreen mozallowfullscreen></iframe></div></div>"
      ],
      "text/plain": [
       "<folium.folium.Map at 0x19d94ee00a0>"
      ]
     },
     "execution_count": 40,
     "metadata": {},
     "output_type": "execute_result"
    },
    {
     "data": {
      "text/plain": [
       "<Figure size 1080x720 with 0 Axes>"
      ]
     },
     "metadata": {},
     "output_type": "display_data"
    }
   ],
   "source": [
    "plt.figure(figsize=(15, 10))\n",
    "\n",
    "map = folium.Map(location=[31.564784644599616, -89.8392593120893], zoom_start= 16)\n",
    "map"
   ]
  },
  {
   "cell_type": "markdown",
   "id": "cc2edd65",
   "metadata": {
    "papermill": {
     "duration": 0.087142,
     "end_time": "2021-09-23T15:25:47.300005",
     "exception": false,
     "start_time": "2021-09-23T15:25:47.212863",
     "status": "completed"
    },
    "tags": []
   },
   "source": [
    "# Train - Test Split"
   ]
  },
  {
   "cell_type": "code",
   "execution_count": 41,
   "id": "2504e849",
   "metadata": {
    "papermill": {
     "duration": 0.102167,
     "end_time": "2021-09-23T15:25:47.488445",
     "exception": false,
     "start_time": "2021-09-23T15:25:47.386278",
     "status": "completed"
    },
    "tags": []
   },
   "outputs": [
    {
     "data": {
      "text/html": [
       "<div>\n",
       "<style scoped>\n",
       "    .dataframe tbody tr th:only-of-type {\n",
       "        vertical-align: middle;\n",
       "    }\n",
       "\n",
       "    .dataframe tbody tr th {\n",
       "        vertical-align: top;\n",
       "    }\n",
       "\n",
       "    .dataframe thead th {\n",
       "        text-align: right;\n",
       "    }\n",
       "</style>\n",
       "<table border=\"1\" class=\"dataframe\">\n",
       "  <thead>\n",
       "    <tr style=\"text-align: right;\">\n",
       "      <th></th>\n",
       "      <th>Species</th>\n",
       "      <th>Weight</th>\n",
       "      <th>Length1</th>\n",
       "      <th>Length2</th>\n",
       "      <th>Length3</th>\n",
       "      <th>Height</th>\n",
       "      <th>Width</th>\n",
       "    </tr>\n",
       "  </thead>\n",
       "  <tbody>\n",
       "    <tr>\n",
       "      <th>0</th>\n",
       "      <td>Bream</td>\n",
       "      <td>242.0</td>\n",
       "      <td>23.2</td>\n",
       "      <td>25.4</td>\n",
       "      <td>30.0</td>\n",
       "      <td>11.5200</td>\n",
       "      <td>4.0200</td>\n",
       "    </tr>\n",
       "    <tr>\n",
       "      <th>1</th>\n",
       "      <td>Bream</td>\n",
       "      <td>290.0</td>\n",
       "      <td>24.0</td>\n",
       "      <td>26.3</td>\n",
       "      <td>31.2</td>\n",
       "      <td>12.4800</td>\n",
       "      <td>4.3056</td>\n",
       "    </tr>\n",
       "    <tr>\n",
       "      <th>2</th>\n",
       "      <td>Bream</td>\n",
       "      <td>340.0</td>\n",
       "      <td>23.9</td>\n",
       "      <td>26.5</td>\n",
       "      <td>31.1</td>\n",
       "      <td>12.3778</td>\n",
       "      <td>4.6961</td>\n",
       "    </tr>\n",
       "    <tr>\n",
       "      <th>3</th>\n",
       "      <td>Bream</td>\n",
       "      <td>363.0</td>\n",
       "      <td>26.3</td>\n",
       "      <td>29.0</td>\n",
       "      <td>33.5</td>\n",
       "      <td>12.7300</td>\n",
       "      <td>4.4555</td>\n",
       "    </tr>\n",
       "    <tr>\n",
       "      <th>4</th>\n",
       "      <td>Bream</td>\n",
       "      <td>430.0</td>\n",
       "      <td>26.5</td>\n",
       "      <td>29.0</td>\n",
       "      <td>34.0</td>\n",
       "      <td>12.4440</td>\n",
       "      <td>5.1340</td>\n",
       "    </tr>\n",
       "  </tbody>\n",
       "</table>\n",
       "</div>"
      ],
      "text/plain": [
       "  Species  Weight  Length1  Length2  Length3   Height   Width\n",
       "0   Bream   242.0     23.2     25.4     30.0  11.5200  4.0200\n",
       "1   Bream   290.0     24.0     26.3     31.2  12.4800  4.3056\n",
       "2   Bream   340.0     23.9     26.5     31.1  12.3778  4.6961\n",
       "3   Bream   363.0     26.3     29.0     33.5  12.7300  4.4555\n",
       "4   Bream   430.0     26.5     29.0     34.0  12.4440  5.1340"
      ]
     },
     "execution_count": 41,
     "metadata": {},
     "output_type": "execute_result"
    }
   ],
   "source": [
    "df.head()"
   ]
  },
  {
   "cell_type": "markdown",
   "id": "88ebb80a",
   "metadata": {
    "papermill": {
     "duration": 0.088529,
     "end_time": "2021-09-23T15:25:47.663566",
     "exception": false,
     "start_time": "2021-09-23T15:25:47.575037",
     "status": "completed"
    },
    "tags": []
   },
   "source": [
    "## Dummies "
   ]
  },
  {
   "cell_type": "markdown",
   "id": "289f4dfa",
   "metadata": {
    "papermill": {
     "duration": 0.085277,
     "end_time": "2021-09-23T15:25:47.834615",
     "exception": false,
     "start_time": "2021-09-23T15:25:47.749338",
     "status": "completed"
    },
    "tags": []
   },
   "source": [
    "![](https://media.geeksforgeeks.org/wp-content/uploads/20201210102727/Screenshot708.jpg)\n",
    "\n",
    "*A dataset may contain various type of values, sometimes it consists of categorical values. So, in-order to use those categorical value for programming efficiently we create dummy variables. A dummy variable is a binary variable that indicates whether a separate categorical variable takes on a specific value*"
   ]
  },
  {
   "cell_type": "markdown",
   "id": "cec5e438",
   "metadata": {
    "papermill": {
     "duration": 0.0876,
     "end_time": "2021-09-23T15:25:48.009081",
     "exception": false,
     "start_time": "2021-09-23T15:25:47.921481",
     "status": "completed"
    },
    "tags": []
   },
   "source": []
  },
  {
   "cell_type": "code",
   "execution_count": 42,
   "id": "b230a3dd",
   "metadata": {
    "papermill": {
     "duration": 0.09454,
     "end_time": "2021-09-23T15:25:48.190423",
     "exception": false,
     "start_time": "2021-09-23T15:25:48.095883",
     "status": "completed"
    },
    "tags": []
   },
   "outputs": [],
   "source": [
    "df_dummies = pd.get_dummies(df)"
   ]
  },
  {
   "cell_type": "code",
   "execution_count": 43,
   "id": "13475063",
   "metadata": {
    "papermill": {
     "duration": 0.138153,
     "end_time": "2021-09-23T15:25:48.458986",
     "exception": false,
     "start_time": "2021-09-23T15:25:48.320833",
     "status": "completed"
    },
    "tags": []
   },
   "outputs": [
    {
     "name": "stdout",
     "output_type": "stream",
     "text": [
      "X Shape: (159, 12)\n",
      "Y Shape: (159,)\n"
     ]
    }
   ],
   "source": [
    "X = df_dummies.drop(\"Weight\", axis = 1)\n",
    "y = df_dummies[\"Weight\"]\n",
    "\n",
    "\n",
    "x_shape = X.shape\n",
    "y_shape = y.shape\n",
    "\n",
    "print(\"X Shape: {}\\nY Shape: {}\".format(x_shape, y_shape))"
   ]
  },
  {
   "cell_type": "markdown",
   "id": "0ed965c0",
   "metadata": {
    "papermill": {
     "duration": 0.128378,
     "end_time": "2021-09-23T15:25:48.716486",
     "exception": false,
     "start_time": "2021-09-23T15:25:48.588108",
     "status": "completed"
    },
    "tags": []
   },
   "source": [
    "**Train Test Split**\n",
    "\n",
    "![](https://www.kdnuggets.com/wp-content/uploads/train_test_split-2.jpg)\n",
    "\n",
    "\n",
    "\n",
    "The train-test split procedure is used to estimate the performance of machine learning algorithms when they are used to make predictions on data not used to train the model."
   ]
  },
  {
   "cell_type": "code",
   "execution_count": 44,
   "id": "47e3bf8c",
   "metadata": {
    "papermill": {
     "duration": 0.145292,
     "end_time": "2021-09-23T15:25:48.993420",
     "exception": false,
     "start_time": "2021-09-23T15:25:48.848128",
     "status": "completed"
    },
    "tags": []
   },
   "outputs": [
    {
     "name": "stdout",
     "output_type": "stream",
     "text": [
      "X Train Shape: (119, 12)\n",
      "X Test Shape: (40, 12)\n",
      "\n",
      "**************\n",
      "\n",
      "Y Train Shape: (119,)\n",
      "Y Test Shape: (40,)\n"
     ]
    }
   ],
   "source": [
    "X_train, X_test, y_train, y_test = train_test_split(X, y, test_size=0.25, random_state=42)\n",
    "\n",
    "x_train_shape = X_train.shape\n",
    "x_test_shape = X_test.shape\n",
    "\n",
    "y_train_shape = y_train.shape\n",
    "y_test_shape = y_test.shape\n",
    "\n",
    "print(\"X Train Shape: {}\\nX Test Shape: {}\\n\\n**************\\n\\nY Train Shape: {}\\nY Test Shape: {}\".format(x_train_shape, x_test_shape, y_train_shape, y_test_shape))"
   ]
  },
  {
   "cell_type": "markdown",
   "id": "56379834",
   "metadata": {
    "papermill": {
     "duration": 0.085599,
     "end_time": "2021-09-23T15:25:49.164546",
     "exception": false,
     "start_time": "2021-09-23T15:25:49.078947",
     "status": "completed"
    },
    "tags": []
   },
   "source": [
    "# Model"
   ]
  },
  {
   "cell_type": "markdown",
   "id": "b1e4cd0f",
   "metadata": {
    "papermill": {
     "duration": 0.085405,
     "end_time": "2021-09-23T15:25:49.335510",
     "exception": false,
     "start_time": "2021-09-23T15:25:49.250105",
     "status": "completed"
    },
    "tags": []
   },
   "source": [
    "# Multivariate linear regression"
   ]
  },
  {
   "cell_type": "markdown",
   "id": "2a351368",
   "metadata": {
    "papermill": {
     "duration": 0.089555,
     "end_time": "2021-09-23T15:25:49.512158",
     "exception": false,
     "start_time": "2021-09-23T15:25:49.422603",
     "status": "completed"
    },
    "tags": []
   },
   "source": [
    "![](https://wikimedia.org/api/rest_v1/media/math/render/svg/8119b3ed1259aa8ff15166488548104b50a0f92e)\n",
    "\n",
    "![](https://wikimedia.org/api/rest_v1/media/math/render/svg/e8d0c4f437e3f224a7a5fa1ca745446d28940448)\n",
    "![](https://wikimedia.org/api/rest_v1/media/math/render/svg/056ade59df741a656fcf42f905aaf95a5628c56d)\n",
    "![](https://wikimedia.org/api/rest_v1/media/math/render/svg/71c383d5c6db8a98fd02f88b33ea8b9e859ab1ed)\n",
    "\n",
    "\n",
    "[check for detailed information](https://www.hackerearth.com/practice/machine-learning/linear-regression/multivariate-linear-regression-1/tutorial/)"
   ]
  },
  {
   "cell_type": "code",
   "execution_count": 45,
   "id": "651654d3",
   "metadata": {
    "papermill": {
     "duration": 0.111266,
     "end_time": "2021-09-23T15:25:49.713286",
     "exception": false,
     "start_time": "2021-09-23T15:25:49.602020",
     "status": "completed"
    },
    "tags": []
   },
   "outputs": [
    {
     "data": {
      "text/plain": [
       "Length1               -69.420081\n",
       "Length2                72.442845\n",
       "Length3                32.642834\n",
       "Height                 -9.674121\n",
       "Width                   4.447944\n",
       "Species_Bream        -826.888848\n",
       "Species_Parkki       -685.631402\n",
       "Species_Perch        -765.671682\n",
       "Species_Pike        -1158.156677\n",
       "Species_Roach        -789.911241\n",
       "Species_Smelt        -496.742140\n",
       "Species_Whitefish    -784.829537\n",
       "dtype: float64"
      ]
     },
     "execution_count": 45,
     "metadata": {},
     "output_type": "execute_result"
    }
   ],
   "source": [
    "model = sm.OLS(y_train, X_train)\n",
    "results = model.fit()\n",
    "results.params"
   ]
  },
  {
   "cell_type": "code",
   "execution_count": 46,
   "id": "6ed5385b",
   "metadata": {
    "papermill": {
     "duration": 0.151888,
     "end_time": "2021-09-23T15:25:49.996544",
     "exception": false,
     "start_time": "2021-09-23T15:25:49.844656",
     "status": "completed"
    },
    "tags": []
   },
   "outputs": [
    {
     "data": {
      "text/html": [
       "<table class=\"simpletable\">\n",
       "<caption>OLS Regression Results</caption>\n",
       "<tr>\n",
       "  <th>Dep. Variable:</th>         <td>Weight</td>      <th>  R-squared:         </th> <td>   0.929</td>\n",
       "</tr>\n",
       "<tr>\n",
       "  <th>Model:</th>                   <td>OLS</td>       <th>  Adj. R-squared:    </th> <td>   0.922</td>\n",
       "</tr>\n",
       "<tr>\n",
       "  <th>Method:</th>             <td>Least Squares</td>  <th>  F-statistic:       </th> <td>   127.4</td>\n",
       "</tr>\n",
       "<tr>\n",
       "  <th>Date:</th>             <td>Sun, 06 Feb 2022</td> <th>  Prob (F-statistic):</th> <td>3.39e-56</td>\n",
       "</tr>\n",
       "<tr>\n",
       "  <th>Time:</th>                 <td>21:16:04</td>     <th>  Log-Likelihood:    </th> <td> -710.27</td>\n",
       "</tr>\n",
       "<tr>\n",
       "  <th>No. Observations:</th>      <td>   119</td>      <th>  AIC:               </th> <td>   1445.</td>\n",
       "</tr>\n",
       "<tr>\n",
       "  <th>Df Residuals:</th>          <td>   107</td>      <th>  BIC:               </th> <td>   1478.</td>\n",
       "</tr>\n",
       "<tr>\n",
       "  <th>Df Model:</th>              <td>    11</td>      <th>                     </th>     <td> </td>   \n",
       "</tr>\n",
       "<tr>\n",
       "  <th>Covariance Type:</th>      <td>nonrobust</td>    <th>                     </th>     <td> </td>   \n",
       "</tr>\n",
       "</table>\n",
       "<table class=\"simpletable\">\n",
       "<tr>\n",
       "          <td></td>             <th>coef</th>     <th>std err</th>      <th>t</th>      <th>P>|t|</th>  <th>[0.025</th>    <th>0.975]</th>  \n",
       "</tr>\n",
       "<tr>\n",
       "  <th>Length1</th>           <td>  -69.4201</td> <td>   49.353</td> <td>   -1.407</td> <td> 0.162</td> <td> -167.256</td> <td>   28.416</td>\n",
       "</tr>\n",
       "<tr>\n",
       "  <th>Length2</th>           <td>   72.4428</td> <td>   57.948</td> <td>    1.250</td> <td> 0.214</td> <td>  -42.433</td> <td>  187.319</td>\n",
       "</tr>\n",
       "<tr>\n",
       "  <th>Length3</th>           <td>   32.6428</td> <td>   33.236</td> <td>    0.982</td> <td> 0.328</td> <td>  -33.244</td> <td>   98.530</td>\n",
       "</tr>\n",
       "<tr>\n",
       "  <th>Height</th>            <td>   -9.6741</td> <td>   16.914</td> <td>   -0.572</td> <td> 0.569</td> <td>  -43.204</td> <td>   23.856</td>\n",
       "</tr>\n",
       "<tr>\n",
       "  <th>Width</th>             <td>    4.4479</td> <td>   29.743</td> <td>    0.150</td> <td> 0.881</td> <td>  -54.514</td> <td>   63.410</td>\n",
       "</tr>\n",
       "<tr>\n",
       "  <th>Species_Bream</th>     <td> -826.8888</td> <td>  153.019</td> <td>   -5.404</td> <td> 0.000</td> <td>-1130.232</td> <td> -523.546</td>\n",
       "</tr>\n",
       "<tr>\n",
       "  <th>Species_Parkki</th>    <td> -685.6314</td> <td>   81.232</td> <td>   -8.440</td> <td> 0.000</td> <td> -846.664</td> <td> -524.598</td>\n",
       "</tr>\n",
       "<tr>\n",
       "  <th>Species_Perch</th>     <td> -765.6717</td> <td>   49.716</td> <td>  -15.401</td> <td> 0.000</td> <td> -864.228</td> <td> -667.115</td>\n",
       "</tr>\n",
       "<tr>\n",
       "  <th>Species_Pike</th>      <td>-1158.1567</td> <td>  110.438</td> <td>  -10.487</td> <td> 0.000</td> <td>-1377.086</td> <td> -939.227</td>\n",
       "</tr>\n",
       "<tr>\n",
       "  <th>Species_Roach</th>     <td> -789.9112</td> <td>   63.379</td> <td>  -12.463</td> <td> 0.000</td> <td> -915.554</td> <td> -664.269</td>\n",
       "</tr>\n",
       "<tr>\n",
       "  <th>Species_Smelt</th>     <td> -496.7421</td> <td>   44.775</td> <td>  -11.094</td> <td> 0.000</td> <td> -585.504</td> <td> -407.980</td>\n",
       "</tr>\n",
       "<tr>\n",
       "  <th>Species_Whitefish</th> <td> -784.8295</td> <td>   88.576</td> <td>   -8.860</td> <td> 0.000</td> <td> -960.422</td> <td> -609.237</td>\n",
       "</tr>\n",
       "</table>\n",
       "<table class=\"simpletable\">\n",
       "<tr>\n",
       "  <th>Omnibus:</th>       <td>30.662</td> <th>  Durbin-Watson:     </th> <td>   1.938</td>\n",
       "</tr>\n",
       "<tr>\n",
       "  <th>Prob(Omnibus):</th> <td> 0.000</td> <th>  Jarque-Bera (JB):  </th> <td>  57.378</td>\n",
       "</tr>\n",
       "<tr>\n",
       "  <th>Skew:</th>          <td> 1.103</td> <th>  Prob(JB):          </th> <td>3.47e-13</td>\n",
       "</tr>\n",
       "<tr>\n",
       "  <th>Kurtosis:</th>      <td> 5.590</td> <th>  Cond. No.          </th> <td>1.15e+03</td>\n",
       "</tr>\n",
       "</table><br/><br/>Notes:<br/>[1] Standard Errors assume that the covariance matrix of the errors is correctly specified.<br/>[2] The condition number is large, 1.15e+03. This might indicate that there are<br/>strong multicollinearity or other numerical problems."
      ],
      "text/plain": [
       "<class 'statsmodels.iolib.summary.Summary'>\n",
       "\"\"\"\n",
       "                            OLS Regression Results                            \n",
       "==============================================================================\n",
       "Dep. Variable:                 Weight   R-squared:                       0.929\n",
       "Model:                            OLS   Adj. R-squared:                  0.922\n",
       "Method:                 Least Squares   F-statistic:                     127.4\n",
       "Date:                Sun, 06 Feb 2022   Prob (F-statistic):           3.39e-56\n",
       "Time:                        21:16:04   Log-Likelihood:                -710.27\n",
       "No. Observations:                 119   AIC:                             1445.\n",
       "Df Residuals:                     107   BIC:                             1478.\n",
       "Df Model:                          11                                         \n",
       "Covariance Type:            nonrobust                                         \n",
       "=====================================================================================\n",
       "                        coef    std err          t      P>|t|      [0.025      0.975]\n",
       "-------------------------------------------------------------------------------------\n",
       "Length1             -69.4201     49.353     -1.407      0.162    -167.256      28.416\n",
       "Length2              72.4428     57.948      1.250      0.214     -42.433     187.319\n",
       "Length3              32.6428     33.236      0.982      0.328     -33.244      98.530\n",
       "Height               -9.6741     16.914     -0.572      0.569     -43.204      23.856\n",
       "Width                 4.4479     29.743      0.150      0.881     -54.514      63.410\n",
       "Species_Bream      -826.8888    153.019     -5.404      0.000   -1130.232    -523.546\n",
       "Species_Parkki     -685.6314     81.232     -8.440      0.000    -846.664    -524.598\n",
       "Species_Perch      -765.6717     49.716    -15.401      0.000    -864.228    -667.115\n",
       "Species_Pike      -1158.1567    110.438    -10.487      0.000   -1377.086    -939.227\n",
       "Species_Roach      -789.9112     63.379    -12.463      0.000    -915.554    -664.269\n",
       "Species_Smelt      -496.7421     44.775    -11.094      0.000    -585.504    -407.980\n",
       "Species_Whitefish  -784.8295     88.576     -8.860      0.000    -960.422    -609.237\n",
       "==============================================================================\n",
       "Omnibus:                       30.662   Durbin-Watson:                   1.938\n",
       "Prob(Omnibus):                  0.000   Jarque-Bera (JB):               57.378\n",
       "Skew:                           1.103   Prob(JB):                     3.47e-13\n",
       "Kurtosis:                       5.590   Cond. No.                     1.15e+03\n",
       "==============================================================================\n",
       "\n",
       "Notes:\n",
       "[1] Standard Errors assume that the covariance matrix of the errors is correctly specified.\n",
       "[2] The condition number is large, 1.15e+03. This might indicate that there are\n",
       "strong multicollinearity or other numerical problems.\n",
       "\"\"\""
      ]
     },
     "execution_count": 46,
     "metadata": {},
     "output_type": "execute_result"
    }
   ],
   "source": [
    "results.summary()"
   ]
  },
  {
   "cell_type": "markdown",
   "id": "59e772c3",
   "metadata": {
    "papermill": {
     "duration": 0.088073,
     "end_time": "2021-09-23T15:25:50.172151",
     "exception": false,
     "start_time": "2021-09-23T15:25:50.084078",
     "status": "completed"
    },
    "tags": []
   },
   "source": [
    " R^2 (coefficient of determination) regression score function.\n",
    "\n",
    "Best possible score is 1.0 and it can be negative (because the model can be arbitrarily worse). A constant model that always predicts the expected value of y, disregarding the input features, would get a  R^2  score of 0.0."
   ]
  },
  {
   "cell_type": "code",
   "execution_count": 47,
   "id": "4cedb59e",
   "metadata": {
    "papermill": {
     "duration": 0.097975,
     "end_time": "2021-09-23T15:25:50.357858",
     "exception": false,
     "start_time": "2021-09-23T15:25:50.259883",
     "status": "completed"
    },
    "tags": []
   },
   "outputs": [
    {
     "data": {
      "text/plain": [
       "0.9482958230393622"
      ]
     },
     "execution_count": 47,
     "metadata": {},
     "output_type": "execute_result"
    }
   ],
   "source": [
    "y_hat = results.predict(X_test) \n",
    "\n",
    "r2_score(y_test, y_hat)\n"
   ]
  },
  {
   "cell_type": "code",
   "execution_count": 48,
   "id": "ce63460a",
   "metadata": {
    "papermill": {
     "duration": 0.435248,
     "end_time": "2021-09-23T15:25:50.882359",
     "exception": false,
     "start_time": "2021-09-23T15:25:50.447111",
     "status": "completed"
    },
    "tags": []
   },
   "outputs": [
    {
     "data": {
      "text/plain": [
       "Text(0.5, 1.0, '')"
      ]
     },
     "execution_count": 48,
     "metadata": {},
     "output_type": "execute_result"
    },
    {
     "data": {
      "image/png": "[encoded data removed]",
      "text/plain": [
       "<Figure size 720x576 with 1 Axes>"
      ]
     },
     "metadata": {},
     "output_type": "display_data"
    }
   ],
   "source": [
    "plt.figure(figsize=(10, 8))\n",
    "sns.regplot(x=y_test, y=y_hat, line_kws={\"color\":\"r\",\"alpha\":0.7,\"lw\":5})\n",
    "plt.xlabel(\"Ground truth\")\n",
    "plt.ylabel(\"Predict Values\")\n",
    "plt.title(\"\")"
   ]
  },
  {
   "cell_type": "markdown",
   "id": "5b3d8cd1",
   "metadata": {
    "papermill": {
     "duration": 0.08962,
     "end_time": "2021-09-23T15:25:51.063481",
     "exception": false,
     "start_time": "2021-09-23T15:25:50.973861",
     "status": "completed"
    },
    "tags": []
   },
   "source": [
    "**Note: linear regression assumptions should be tested. I will make and update soon**\n"
   ]
  },
  {
   "cell_type": "markdown",
   "id": "26cb156e",
   "metadata": {
    "papermill": {
     "duration": 0.09134,
     "end_time": "2021-09-23T15:25:51.246164",
     "exception": false,
     "start_time": "2021-09-23T15:25:51.154824",
     "status": "completed"
    },
    "tags": []
   },
   "source": [
    "# Ridge Regression"
   ]
  },
  {
   "cell_type": "markdown",
   "id": "f42e9dff",
   "metadata": {
    "papermill": {
     "duration": 0.092078,
     "end_time": "2021-09-23T15:25:51.430671",
     "exception": false,
     "start_time": "2021-09-23T15:25:51.338593",
     "status": "completed"
    },
    "tags": []
   },
   "source": [
    "Ridge regression is a model tuning method that is used to analyse any data that suffers from multicollinearity. This method performs L2 regularization. When the issue of multicollinearity occurs, least-squares are unbiased, and variances are large, this results in predicted values to be far away from the actual values. "
   ]
  },
  {
   "cell_type": "markdown",
   "id": "29410215",
   "metadata": {
    "papermill": {
     "duration": 0.090772,
     "end_time": "2021-09-23T15:25:51.613625",
     "exception": false,
     "start_time": "2021-09-23T15:25:51.522853",
     "status": "completed"
    },
    "tags": []
   },
   "source": [
    "Cost function for ridge regression\n",
    "![](https://miro.medium.com/max/1400/1*hAGhQehrqAmT1pvz3q4t8Q.png)"
   ]
  },
  {
   "cell_type": "code",
   "execution_count": 49,
   "id": "ea9ec9cf",
   "metadata": {
    "papermill": {
     "duration": 0.104695,
     "end_time": "2021-09-23T15:25:51.809332",
     "exception": false,
     "start_time": "2021-09-23T15:25:51.704637",
     "status": "completed"
    },
    "tags": []
   },
   "outputs": [],
   "source": [
    "rr = Ridge(alpha=0.01)\n",
    "rr_model = rr.fit(X_train, y_train)\n",
    "\n",
    "y_pred = rr_model.predict(X_test)"
   ]
  },
  {
   "cell_type": "code",
   "execution_count": 50,
   "id": "d97b7daa",
   "metadata": {
    "papermill": {
     "duration": 0.101779,
     "end_time": "2021-09-23T15:25:52.004481",
     "exception": false,
     "start_time": "2021-09-23T15:25:51.902702",
     "status": "completed"
    },
    "tags": []
   },
   "outputs": [
    {
     "name": "stdout",
     "output_type": "stream",
     "text": [
      "Rmse: 82.07225052447723\n",
      "Mae: 63.592755485552246\n",
      "R^2: 0.9483396982482705\n"
     ]
    }
   ],
   "source": [
    "rmse = sqrt(mean_squared_error(y_test, y_pred))\n",
    "mae = mean_absolute_error(y_test, y_pred)\n",
    "r2 = r2_score(y_test, y_pred)\n",
    "\n",
    "print(\"Rmse: {}\\nMae: {}\\nR^2: {}\".format(rmse, mae, r2))"
   ]
  },
  {
   "cell_type": "code",
   "execution_count": 51,
   "id": "c8b4b3ca",
   "metadata": {
    "papermill": {
     "duration": 0.401151,
     "end_time": "2021-09-23T15:25:52.496651",
     "exception": false,
     "start_time": "2021-09-23T15:25:52.095500",
     "status": "completed"
    },
    "tags": []
   },
   "outputs": [
    {
     "data": {
      "text/plain": [
       "Text(0.5, 1.0, 'Ridge Regressor')"
      ]
     },
     "execution_count": 51,
     "metadata": {},
     "output_type": "execute_result"
    },
    {
     "data": {
      "image/png": "[encoded data removed]",
      "text/plain": [
       "<Figure size 720x576 with 1 Axes>"
      ]
     },
     "metadata": {},
     "output_type": "display_data"
    }
   ],
   "source": [
    "plt.figure(figsize=(10, 8))\n",
    "plt.scatter(y_pred, y_test, edgecolors = [0,0,1])\n",
    "plt.plot([y_test.min(), y_test.max()], [y_test.min(), y_test.max()], \"r--\", lw = 2)\n",
    "plt.xlabel(\"Predict Values\")\n",
    "plt.ylabel(\"Ground truth\")\n",
    "plt.title(\"Ridge Regressor\")"
   ]
  },
  {
   "cell_type": "markdown",
   "id": "a93b923d",
   "metadata": {
    "papermill": {
     "duration": 0.091616,
     "end_time": "2021-09-23T15:25:52.679675",
     "exception": false,
     "start_time": "2021-09-23T15:25:52.588059",
     "status": "completed"
    },
    "tags": []
   },
   "source": [
    "the model predicts negative values"
   ]
  },
  {
   "cell_type": "code",
   "execution_count": 52,
   "id": "a76a320b",
   "metadata": {
    "papermill": {
     "duration": 0.103649,
     "end_time": "2021-09-23T15:25:52.875113",
     "exception": false,
     "start_time": "2021-09-23T15:25:52.771464",
     "status": "completed"
    },
    "tags": []
   },
   "outputs": [
    {
     "data": {
      "text/plain": [
       "array([ -63.17033396,  -14.69864931,  -92.20051271,  -15.23234344,\n",
       "        -22.39135149, -104.19679837])"
      ]
     },
     "execution_count": 52,
     "metadata": {},
     "output_type": "execute_result"
    }
   ],
   "source": [
    "y_pred[y_pred < 0]"
   ]
  },
  {
   "cell_type": "markdown",
   "id": "ff5fec4a",
   "metadata": {
    "papermill": {
     "duration": 0.091801,
     "end_time": "2021-09-23T15:25:53.075670",
     "exception": false,
     "start_time": "2021-09-23T15:25:52.983869",
     "status": "completed"
    },
    "tags": []
   },
   "source": [
    "# Lasso Regression"
   ]
  },
  {
   "cell_type": "markdown",
   "id": "7f21b562",
   "metadata": {
    "papermill": {
     "duration": 0.093875,
     "end_time": "2021-09-23T15:25:53.263312",
     "exception": false,
     "start_time": "2021-09-23T15:25:53.169437",
     "status": "completed"
    },
    "tags": []
   },
   "source": [
    " The only difference is instead of taking the square of the coefficients, magnitudes are taken into account. This type of regularization (L1) can lead to zero coefficients i.e. some of the features are completely neglected for the evaluation of output. So Lasso regression not only helps in reducing over-fitting but it can help us in feature selection."
   ]
  },
  {
   "cell_type": "markdown",
   "id": "4c6b69f3",
   "metadata": {
    "papermill": {
     "duration": 0.095037,
     "end_time": "2021-09-23T15:25:53.451745",
     "exception": false,
     "start_time": "2021-09-23T15:25:53.356708",
     "status": "completed"
    },
    "tags": []
   },
   "source": [
    "Cost function for Lasso regression\n",
    "![](https://miro.medium.com/max/1400/1*P5Lq5mAi4WAch7oIeiS3WA.png)"
   ]
  },
  {
   "cell_type": "code",
   "execution_count": 53,
   "id": "f8526e76",
   "metadata": {
    "papermill": {
     "duration": 0.112975,
     "end_time": "2021-09-23T15:25:53.655629",
     "exception": false,
     "start_time": "2021-09-23T15:25:53.542654",
     "status": "completed"
    },
    "tags": []
   },
   "outputs": [
    {
     "name": "stderr",
     "output_type": "stream",
     "text": [
      "C:\\Users\\Raman\\AppData\\Local\\Programs\\Python\\Python39\\lib\\site-packages\\sklearn\\linear_model\\_coordinate_descent.py:647: ConvergenceWarning: Objective did not converge. You might want to increase the number of iterations, check the scale of the features or consider increasing regularisation. Duality gap: 7.247e+04, tolerance: 1.502e+03\n",
      "  model = cd_fast.enet_coordinate_descent(\n"
     ]
    }
   ],
   "source": [
    "lasso = Lasso()\n",
    "lasso_model = lasso.fit(X_train,y_train)\n",
    "\n",
    "\n",
    "y_pred = lasso_model.predict(X_test)"
   ]
  },
  {
   "cell_type": "code",
   "execution_count": 54,
   "id": "1091431d",
   "metadata": {
    "papermill": {
     "duration": 0.147906,
     "end_time": "2021-09-23T15:25:53.939693",
     "exception": false,
     "start_time": "2021-09-23T15:25:53.791787",
     "status": "completed"
    },
    "tags": []
   },
   "outputs": [
    {
     "name": "stdout",
     "output_type": "stream",
     "text": [
      "Rmse: 85.74459991526814\n",
      "Mae: 64.73431257882733\n",
      "R^2: 0.9436131530706193\n"
     ]
    }
   ],
   "source": [
    "rmse = sqrt(mean_squared_error(y_test, y_pred))\n",
    "mae = mean_absolute_error(y_test, y_pred)\n",
    "r2 = r2_score(y_test, y_pred)\n",
    "\n",
    "print(\"Rmse: {}\\nMae: {}\\nR^2: {}\".format(rmse, mae, r2))"
   ]
  },
  {
   "cell_type": "code",
   "execution_count": 55,
   "id": "3e4ef812",
   "metadata": {
    "papermill": {
     "duration": 0.348883,
     "end_time": "2021-09-23T15:25:54.383548",
     "exception": false,
     "start_time": "2021-09-23T15:25:54.034665",
     "status": "completed"
    },
    "tags": []
   },
   "outputs": [
    {
     "data": {
      "text/plain": [
       "Text(0.5, 1.0, 'Lasso Regressor')"
      ]
     },
     "execution_count": 55,
     "metadata": {},
     "output_type": "execute_result"
    },
    {
     "data": {
      "image/png": "[encoded data removed]",
      "text/plain": [
       "<Figure size 720x576 with 1 Axes>"
      ]
     },
     "metadata": {},
     "output_type": "display_data"
    }
   ],
   "source": [
    "plt.figure(figsize=(10, 8))\n",
    "plt.scatter(y_pred, y_test, edgecolors = [0,0,1])\n",
    "plt.plot([y_test.min(), y_test.max()], [y_test.min(), y_test.max()], \"r--\", lw = 2)\n",
    "plt.xlabel(\"Predict Values\")\n",
    "plt.ylabel(\"Ground truth\")\n",
    "plt.title(\"Lasso Regressor\")"
   ]
  },
  {
   "cell_type": "markdown",
   "id": "df7d2b89",
   "metadata": {
    "papermill": {
     "duration": 0.092066,
     "end_time": "2021-09-23T15:25:54.568577",
     "exception": false,
     "start_time": "2021-09-23T15:25:54.476511",
     "status": "completed"
    },
    "tags": []
   },
   "source": [
    "lasso predicts negative values like ridge model"
   ]
  },
  {
   "cell_type": "code",
   "execution_count": 56,
   "id": "765644f6",
   "metadata": {
    "papermill": {
     "duration": 0.102229,
     "end_time": "2021-09-23T15:25:54.764057",
     "exception": false,
     "start_time": "2021-09-23T15:25:54.661828",
     "status": "completed"
    },
    "tags": []
   },
   "outputs": [
    {
     "data": {
      "text/plain": [
       "array([-65.04223445, -17.09338647, -95.62891268, -17.25376134,\n",
       "       -27.89371065, -70.78094675])"
      ]
     },
     "execution_count": 56,
     "metadata": {},
     "output_type": "execute_result"
    }
   ],
   "source": [
    "y_pred[y_pred < 0]"
   ]
  },
  {
   "cell_type": "markdown",
   "id": "cc778320",
   "metadata": {
    "papermill": {
     "duration": 0.092911,
     "end_time": "2021-09-23T15:25:54.950781",
     "exception": false,
     "start_time": "2021-09-23T15:25:54.857870",
     "status": "completed"
    },
    "tags": []
   },
   "source": [
    "# Random Forest"
   ]
  },
  {
   "cell_type": "markdown",
   "id": "1261bba3",
   "metadata": {
    "papermill": {
     "duration": 0.094713,
     "end_time": "2021-09-23T15:25:55.139960",
     "exception": false,
     "start_time": "2021-09-23T15:25:55.045247",
     "status": "completed"
    },
    "tags": []
   },
   "source": [
    "A random forest regressor.\n",
    "\n",
    "A random forest is a meta estimator that fits a number of classifying decision trees on various sub-samples of the dataset and uses averaging to improve the predictive accuracy and control over-fitting. The sub-sample size is controlled with the max_samples parameter if bootstrap=True (default), otherwise the whole dataset is used to build each tree."
   ]
  },
  {
   "cell_type": "code",
   "execution_count": 57,
   "id": "22c40e60",
   "metadata": {
    "papermill": {
     "duration": 0.240307,
     "end_time": "2021-09-23T15:25:55.476576",
     "exception": false,
     "start_time": "2021-09-23T15:25:55.236269",
     "status": "completed"
    },
    "tags": []
   },
   "outputs": [],
   "source": [
    "rf_reg = RandomForestRegressor()\n",
    "rf_reg_model = rf_reg.fit(X_train, y_train)\n",
    "\n",
    "y_pred = rf_reg_model.predict(X_test)"
   ]
  },
  {
   "cell_type": "code",
   "execution_count": 58,
   "id": "75194d38",
   "metadata": {
    "papermill": {
     "duration": 0.105512,
     "end_time": "2021-09-23T15:25:55.675669",
     "exception": false,
     "start_time": "2021-09-23T15:25:55.570157",
     "status": "completed"
    },
    "tags": []
   },
   "outputs": [
    {
     "name": "stdout",
     "output_type": "stream",
     "text": [
      "Rmse: 59.368131242485646\n",
      "Mae: 38.930125\n",
      "R^2: 0.9729684461474271\n"
     ]
    }
   ],
   "source": [
    "\n",
    "rmse = sqrt(mean_squared_error(y_test, y_pred))\n",
    "mae = mean_absolute_error(y_test, y_pred)\n",
    "r2 = r2_score(y_test, y_pred)\n",
    "\n",
    "print(\"Rmse: {}\\nMae: {}\\nR^2: {}\".format(rmse, mae, r2))"
   ]
  },
  {
   "cell_type": "code",
   "execution_count": 59,
   "id": "70f0ca2f",
   "metadata": {
    "papermill": {
     "duration": 0.380587,
     "end_time": "2021-09-23T15:25:56.150546",
     "exception": false,
     "start_time": "2021-09-23T15:25:55.769959",
     "status": "completed"
    },
    "tags": []
   },
   "outputs": [
    {
     "data": {
      "text/plain": [
       "Text(0.5, 1.0, 'Random Forest Regressor')"
      ]
     },
     "execution_count": 59,
     "metadata": {},
     "output_type": "execute_result"
    },
    {
     "data": {
      "image/png": "[encoded data removed]",
      "text/plain": [
       "<Figure size 720x576 with 1 Axes>"
      ]
     },
     "metadata": {},
     "output_type": "display_data"
    }
   ],
   "source": [
    "plt.figure(figsize=(10, 8))\n",
    "plt.scatter(y_pred, y_test, edgecolors = [0,0,1])\n",
    "plt.plot([y_test.min(), y_test.max()], [y_test.min(), y_test.max()], \"r--\", lw = 2)\n",
    "plt.xlabel(\"Predict Values\")\n",
    "plt.ylabel(\"Ground truth\")\n",
    "plt.title(\"Random Forest Regressor\")"
   ]
  },
  {
   "cell_type": "code",
   "execution_count": 60,
   "id": "50d85341",
   "metadata": {
    "papermill": {
     "duration": 0.104201,
     "end_time": "2021-09-23T15:25:56.350051",
     "exception": false,
     "start_time": "2021-09-23T15:25:56.245850",
     "status": "completed"
    },
    "tags": []
   },
   "outputs": [],
   "source": [
    "def display_all(df):\n",
    "    with pd.option_context(\"display.max_rows\", 1000, \"display.max_columns\", 1000): \n",
    "        display(df)    \n",
    "def importance_plot(model_name, thresh_hold):\n",
    "    Importance=pd.DataFrame({\"Importance\":model_name.feature_importances_*100},\n",
    "                       index=X_train.columns)\n",
    "    importance = Importance.sort_values(by=\"Importance\",\n",
    "                      axis=0,ascending=False).iloc[0:10,:]\n",
    "    importance.sort_values(by=\"Importance\",\n",
    "                      axis=0,ascending=True).plot(kind=\"barh\",color=\"r\")\n",
    "    plt.xlabel(\"Değişken Önem Düzeyleri\")\n",
    "\n",
    "\n",
    "    a = Importance.sort_values(\"Importance\", ascending = False)\n",
    "    display_all(a[a['Importance']>thresh_hold])"
   ]
  },
  {
   "cell_type": "code",
   "execution_count": 61,
   "id": "1a807484",
   "metadata": {
    "papermill": {
     "duration": 0.431135,
     "end_time": "2021-09-23T15:25:56.879705",
     "exception": false,
     "start_time": "2021-09-23T15:25:56.448570",
     "status": "completed"
    },
    "tags": []
   },
   "outputs": [
    {
     "data": {
      "text/html": [
       "<div>\n",
       "<style scoped>\n",
       "    .dataframe tbody tr th:only-of-type {\n",
       "        vertical-align: middle;\n",
       "    }\n",
       "\n",
       "    .dataframe tbody tr th {\n",
       "        vertical-align: top;\n",
       "    }\n",
       "\n",
       "    .dataframe thead th {\n",
       "        text-align: right;\n",
       "    }\n",
       "</style>\n",
       "<table border=\"1\" class=\"dataframe\">\n",
       "  <thead>\n",
       "    <tr style=\"text-align: right;\">\n",
       "      <th></th>\n",
       "      <th>Importance</th>\n",
       "    </tr>\n",
       "  </thead>\n",
       "  <tbody>\n",
       "    <tr>\n",
       "      <th>Width</th>\n",
       "      <td>71.671904</td>\n",
       "    </tr>\n",
       "    <tr>\n",
       "      <th>Length3</th>\n",
       "      <td>13.122535</td>\n",
       "    </tr>\n",
       "    <tr>\n",
       "      <th>Length2</th>\n",
       "      <td>8.082534</td>\n",
       "    </tr>\n",
       "    <tr>\n",
       "      <th>Length1</th>\n",
       "      <td>5.574028</td>\n",
       "    </tr>\n",
       "  </tbody>\n",
       "</table>\n",
       "</div>"
      ],
      "text/plain": [
       "         Importance\n",
       "Width     71.671904\n",
       "Length3   13.122535\n",
       "Length2    8.082534\n",
       "Length1    5.574028"
      ]
     },
     "metadata": {},
     "output_type": "display_data"
    },
    {
     "data": {
      "image/png": "[encoded data removed]",
      "text/plain": [
       "<Figure size 432x288 with 1 Axes>"
      ]
     },
     "metadata": {},
     "output_type": "display_data"
    }
   ],
   "source": [
    "importance_plot(rf_reg_model, 1)"
   ]
  },
  {
   "cell_type": "markdown",
   "id": "df78b41f",
   "metadata": {
    "papermill": {
     "duration": 0.096587,
     "end_time": "2021-09-23T15:25:57.073039",
     "exception": false,
     "start_time": "2021-09-23T15:25:56.976452",
     "status": "completed"
    },
    "tags": []
   },
   "source": [
    "# XGBoost"
   ]
  },
  {
   "cell_type": "code",
   "execution_count": 62,
   "id": "d1bcffe7",
   "metadata": {
    "papermill": {
     "duration": 0.191572,
     "end_time": "2021-09-23T15:25:57.360040",
     "exception": false,
     "start_time": "2021-09-23T15:25:57.168468",
     "status": "completed"
    },
    "tags": []
   },
   "outputs": [],
   "source": [
    "xgb = XGBRegressor()\n",
    "\n",
    "xgb_model = xgb.fit(X_train, y_train)\n",
    "\n",
    "y_pred = xgb_model.predict(X_test)\n",
    "rmse = sqrt(mean_squared_error(y_test, y_pred))\n",
    "mae = mean_absolute_error(y_test, y_pred)\n",
    "r2 = r2_score(y_test, y_pred)"
   ]
  },
  {
   "cell_type": "code",
   "execution_count": 63,
   "id": "f57e0aae",
   "metadata": {
    "papermill": {
     "duration": 0.323389,
     "end_time": "2021-09-23T15:25:57.780237",
     "exception": false,
     "start_time": "2021-09-23T15:25:57.456848",
     "status": "completed"
    },
    "tags": []
   },
   "outputs": [
    {
     "name": "stdout",
     "output_type": "stream",
     "text": [
      "Rmse: 64.78368243416556\n",
      "Mae: 39.478449239730836\n",
      "R^2: 0.9678118871923661\n"
     ]
    },
    {
     "data": {
      "text/plain": [
       "Text(0.5, 1.0, 'XGBoost Regressor')"
      ]
     },
     "execution_count": 63,
     "metadata": {},
     "output_type": "execute_result"
    },
    {
     "data": {
      "image/png": "[encoded data removed]",
      "text/plain": [
       "<Figure size 720x576 with 1 Axes>"
      ]
     },
     "metadata": {},
     "output_type": "display_data"
    }
   ],
   "source": [
    "print(\"Rmse: {}\\nMae: {}\\nR^2: {}\".format(rmse, mae, r2))\n",
    "plt.figure(figsize=(10, 8))\n",
    "plt.scatter(y_pred, y_test, edgecolors = [0,0,1])\n",
    "plt.plot([y_test.min(), y_test.max()], [y_test.min(), y_test.max()], \"r--\", lw = 2)\n",
    "plt.xlabel(\"Predict Values\")\n",
    "plt.ylabel(\"Ground truth\")\n",
    "plt.title(\"XGBoost Regressor\")"
   ]
  },
  {
   "cell_type": "code",
   "execution_count": 64,
   "id": "4988d3e1",
   "metadata": {
    "papermill": {
     "duration": 0.462377,
     "end_time": "2021-09-23T15:25:58.388971",
     "exception": false,
     "start_time": "2021-09-23T15:25:57.926594",
     "status": "completed"
    },
    "tags": []
   },
   "outputs": [
    {
     "data": {
      "text/html": [
       "<div>\n",
       "<style scoped>\n",
       "    .dataframe tbody tr th:only-of-type {\n",
       "        vertical-align: middle;\n",
       "    }\n",
       "\n",
       "    .dataframe tbody tr th {\n",
       "        vertical-align: top;\n",
       "    }\n",
       "\n",
       "    .dataframe thead th {\n",
       "        text-align: right;\n",
       "    }\n",
       "</style>\n",
       "<table border=\"1\" class=\"dataframe\">\n",
       "  <thead>\n",
       "    <tr style=\"text-align: right;\">\n",
       "      <th></th>\n",
       "      <th>Importance</th>\n",
       "    </tr>\n",
       "  </thead>\n",
       "  <tbody>\n",
       "    <tr>\n",
       "      <th>Width</th>\n",
       "      <td>64.227196</td>\n",
       "    </tr>\n",
       "    <tr>\n",
       "      <th>Length3</th>\n",
       "      <td>27.644598</td>\n",
       "    </tr>\n",
       "    <tr>\n",
       "      <th>Length1</th>\n",
       "      <td>4.055028</td>\n",
       "    </tr>\n",
       "    <tr>\n",
       "      <th>Length2</th>\n",
       "      <td>3.104645</td>\n",
       "    </tr>\n",
       "  </tbody>\n",
       "</table>\n",
       "</div>"
      ],
      "text/plain": [
       "         Importance\n",
       "Width     64.227196\n",
       "Length3   27.644598\n",
       "Length1    4.055028\n",
       "Length2    3.104645"
      ]
     },
     "metadata": {},
     "output_type": "display_data"
    },
    {
     "data": {
      "image/png": "[encoded data removed]",
      "text/plain": [
       "<Figure size 432x288 with 1 Axes>"
      ]
     },
     "metadata": {},
     "output_type": "display_data"
    }
   ],
   "source": [
    "importance_plot(xgb_model, 1)"
   ]
  },
  {
   "cell_type": "markdown",
   "id": "3970e5fa",
   "metadata": {
    "papermill": {
     "duration": 0.099751,
     "end_time": "2021-09-23T15:25:58.591393",
     "exception": false,
     "start_time": "2021-09-23T15:25:58.491642",
     "status": "completed"
    },
    "tags": []
   },
   "source": [
    "I wonder your thoughts about the notebook"
   ]
  },
  {
   "cell_type": "code",
   "execution_count": null,
   "id": "1f7c057f",
   "metadata": {
    "papermill": {
     "duration": 0.100126,
     "end_time": "2021-09-23T15:25:58.994099",
     "exception": false,
     "start_time": "2021-09-23T15:25:58.893973",
     "status": "completed"
    },
    "tags": []
   },
   "outputs": [],
   "source": []
  }
 ],
 "metadata": {
  "kernelspec": {
   "display_name": "Python 3 (ipykernel)",
   "language": "python",
   "name": "python3"
  },
  "language_info": {
   "codemirror_mode": {
    "name": "ipython",
    "version": 3
   },
   "file_extension": ".py",
   "mimetype": "text/x-python",
   "name": "python",
   "nbconvert_exporter": "python",
   "pygments_lexer": "ipython3",
   "version": "3.9.8"
  },
  "papermill": {
   "default_parameters": {},
   "duration": 38.927385,
   "end_time": "2021-09-23T15:25:59.912327",
   "environment_variables": {},
   "exception": null,
   "input_path": "__notebook__.ipynb",
   "output_path": "__notebook__.ipynb",
   "parameters": {},
   "start_time": "2021-09-23T15:25:20.984942",
   "version": "2.3.3"
  }
 },
 "nbformat": 4,
 "nbformat_minor": 5
}
